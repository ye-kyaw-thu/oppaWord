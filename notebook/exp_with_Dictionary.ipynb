{
 "cells": [
  {
   "cell_type": "markdown",
   "id": "7a7dd845-4daa-4d4e-8154-a93cb61c847a",
   "metadata": {},
   "source": [
    "## Experriment with Bigger Dictionary\n",
    "\n",
    "ဒီတခေါက် မှာတော့ [myG2P](https://github.com/ye-kyaw-thu/myG2P)+[myPOS](https://github.com/ye-kyaw-thu/myPOS) အဘိဓာန်ကို [myRoman](https://github.com/ye-kyaw-thu/myRoman) က နာမည်တွေအပြင် ထပ်ဖြည့်ထားတဲ့ နာမည်တွေနဲ့ ဆောက်ထားတဲ့ name dictionary ကိုပါ ပေါင်းလိုက်ပြီး ပိုကြီးတဲ့ dictionary ကိုသုံးပြီး word segmentation experiment လုပ်ကြည့်မှာ ဖြစ်ပါတယ်။  \n",
    "\n",
    "Date: 3 Aug 2025  \n",
    "Run by Ye Kyaw Thu, LU Lab., Myanmar  "
   ]
  },
  {
   "cell_type": "code",
   "execution_count": 1,
   "id": "9610b940-1e5e-4f13-aebf-cf66e714010b",
   "metadata": {},
   "outputs": [
    {
     "name": "stdout",
     "output_type": "stream",
     "text": [
      "/home/ye/exp/myTokenizer\n"
     ]
    }
   ],
   "source": [
    "!pwd"
   ]
  },
  {
   "cell_type": "code",
   "execution_count": 2,
   "id": "7e7eabe5-429a-4355-bdc3-80bd7c2a6e8b",
   "metadata": {},
   "outputs": [
    {
     "name": "stdout",
     "output_type": "stream",
     "text": [
      "/home/ye/exp/myTokenizer/oppaWord/data/prepare_big_dict/combine\n"
     ]
    }
   ],
   "source": [
    "cd /home/ye/exp/myTokenizer/oppaWord/data/prepare_big_dict/combine"
   ]
  },
  {
   "cell_type": "code",
   "execution_count": 3,
   "id": "c66e4d6d-bfc7-4243-a3ab-39b3fad99803",
   "metadata": {},
   "outputs": [
    {
     "name": "stdout",
     "output_type": "stream",
     "text": [
      "myg2p_mypos_name.dict\n"
     ]
    }
   ],
   "source": [
    "!ls"
   ]
  },
  {
   "cell_type": "code",
   "execution_count": 5,
   "id": "d978f1bb-bdf1-4a94-975b-c6b55823dbea",
   "metadata": {},
   "outputs": [],
   "source": [
    "!mv ./myg2p_mypos_name.dict ./myg2p_mypos_name.txt"
   ]
  },
  {
   "cell_type": "code",
   "execution_count": 6,
   "id": "ae3650a0-ec12-478e-93a0-a5a2f143c7ea",
   "metadata": {},
   "outputs": [
    {
     "name": "stdout",
     "output_type": "stream",
     "text": [
      " 155538  155538 5261962 myg2p_mypos_name.txt\n"
     ]
    }
   ],
   "source": [
    "!wc myg2p_mypos_name.txt"
   ]
  },
  {
   "cell_type": "code",
   "execution_count": 7,
   "id": "ddd83cd5-35c6-4906-ba74-8dae98ed5a3d",
   "metadata": {},
   "outputs": [],
   "source": [
    "!sort ./myg2p_mypos_name.txt | uniq > ./myg2p_mypos_name.dict "
   ]
  },
  {
   "cell_type": "code",
   "execution_count": 8,
   "id": "c5536aa1-c7df-4429-bbc1-e361fc6be3c7",
   "metadata": {},
   "outputs": [
    {
     "name": "stdout",
     "output_type": "stream",
     "text": [
      " 154684  154684 5244464 ./myg2p_mypos_name.dict\n"
     ]
    }
   ],
   "source": [
    "!wc ./myg2p_mypos_name.dict"
   ]
  },
  {
   "cell_type": "code",
   "execution_count": 11,
   "id": "9d44b1cc-cb08-4f39-9d7a-7a438b934650",
   "metadata": {},
   "outputs": [],
   "source": [
    "!cp ./data/prepare_big_dict/combine/myg2p_mypos_name.dict ./data/"
   ]
  },
  {
   "cell_type": "markdown",
   "id": "d6686ce6-e650-47a1-b17b-dd6718a68158",
   "metadata": {},
   "source": [
    "## oppaWord with myg2p_mypos.dict (Open-test)"
   ]
  },
  {
   "cell_type": "code",
   "execution_count": 10,
   "id": "321303e3-47cb-4f25-b2c5-ec5c31b11ef3",
   "metadata": {},
   "outputs": [
    {
     "name": "stdout",
     "output_type": "stream",
     "text": [
      "/home/ye/exp/myTokenizer/oppaWord\n"
     ]
    }
   ],
   "source": [
    "cd /home/ye/exp/myTokenizer/oppaWord/"
   ]
  },
  {
   "cell_type": "code",
   "execution_count": 14,
   "id": "4ca75ee7-780a-4fcf-9b73-122bd1498146",
   "metadata": {},
   "outputs": [],
   "source": [
    "!mkdir exp_2"
   ]
  },
  {
   "cell_type": "code",
   "execution_count": 15,
   "id": "2d5ab4e6-2ef3-4863-b5eb-abe1bce80447",
   "metadata": {},
   "outputs": [
    {
     "name": "stdout",
     "output_type": "stream",
     "text": [
      "\n",
      "real\t0m0.115s\n",
      "user\t0m0.103s\n",
      "sys\t0m0.012s\n"
     ]
    }
   ],
   "source": [
    "!time python oppa_word.py \\\n",
    "  --input \"./data/otest.1k.word\" \\\n",
    "  --output \"exp_2/dict_only_bimmfallback_bimmboost150_otest.seg\" \\\n",
    "  --space-remove-mode \"my_not_num\" \\\n",
    "  --dict \"./data/myg2p_mypos.dict\" \\\n",
    "  --use-bimm-fallback \\\n",
    "  --bimm-boost 150"
   ]
  },
  {
   "cell_type": "code",
   "execution_count": 16,
   "id": "8be15924-c526-4f2b-af22-decc9a2fe7d4",
   "metadata": {},
   "outputs": [
    {
     "name": "stdout",
     "output_type": "stream",
     "text": [
      "/home/ye/exp/myTokenizer/oppaWord/exp_2\n"
     ]
    }
   ],
   "source": [
    "cd exp_2"
   ]
  },
  {
   "cell_type": "code",
   "execution_count": 17,
   "id": "86e56cff-9ea5-4896-9731-e1b7de5dbd5e",
   "metadata": {},
   "outputs": [
    {
     "name": "stdout",
     "output_type": "stream",
     "text": [
      "  1000  12856 180176 ./dict_only_bimmfallback_bimmboost150_otest.seg\n"
     ]
    }
   ],
   "source": [
    "!wc ./dict_only_bimmfallback_bimmboost150_otest.seg"
   ]
  },
  {
   "cell_type": "code",
   "execution_count": 18,
   "id": "1723dfc3-7fa4-4b92-97e5-289fef16f4ff",
   "metadata": {},
   "outputs": [
    {
     "name": "stdout",
     "output_type": "stream",
     "text": [
      "တစ် ကိုက် ကို ဝမ် ခုနှစ်ထောင် ပါ ။\n",
      "မနှစ် က သူ ကျွန်မ ကို သင်ပေး တယ် ။\n",
      "ကျွန်တော့် ခုံ သွား ရှာ မလို့ ။\n",
      "အတန်း စတာ ကြာ ပြီ လား ။\n",
      "ဆေး နည်းနည်း စား လိုက် ၊ သုံး လေး ရက် လောက် အနားယူ လိုက် ရင် ပျောက် သွား မှာ ပါ ။\n",
      "အေးချမ်း မှု နဲ့ စည်းကမ်း ကို တည်မြဲ အောင် ထိန်းသိမ်း သည် ။\n",
      "ဇွန်း ကို လိုအပ် တယ် ။\n",
      "ဘွဲ့ရ ရင် ဘာ လုပ် မလို့ လဲ ။\n",
      "ကျွန်တော် ချောင်းဆိုး ခြင်း အတွက် တစ်ခုခု လို ချင်တယ် ။\n",
      "အသီးအနှံ တို့ မှ လွဲလျှင် လူ တို့၏ အဓိက အစားအစာ မှာ ငါး ဖြစ် သည် ။\n"
     ]
    }
   ],
   "source": [
    "!head ./dict_only_bimmfallback_bimmboost150_otest.seg"
   ]
  },
  {
   "cell_type": "code",
   "execution_count": 19,
   "id": "d26109d7-2017-4ab7-9215-6b218e22d760",
   "metadata": {},
   "outputs": [
    {
     "name": "stdout",
     "output_type": "stream",
     "text": [
      "အိုးခွက်ပန်းကန် တွေ သိပ် မရှိ လို့ ထမင်းဟင်း ချက် ရ တာ အဆင်မပြေ ဘူး ။\n",
      "စိတ်ဝင်စား ဖို့ ကောင်း တယ် ။\n",
      "ဒီ ဆေး ကို တဝက် စီ ခွဲ ပေး ပါ ။\n",
      "ရောင်း ကောင်း လား ။\n",
      "ဆရာ ဒီ သွား က ခဏခဏ နာ နေ တယ် ။\n",
      "အခု ဘာ လုပ် နေ လဲ ။\n",
      "ဇူ လိုင် ၁၄ ရက် မှာ ဘန်ကောက် ကို သွား မယ့် US 123 မှာ ပါ ။ ဟုတ်လား ။\n",
      "ကား မှ ကားဘီး ကို ဖြုတ် လိုက် သည် ။\n",
      "ကျွန်တော် သိ ပါရစေ ။\n",
      "ဘူတာရုံ က အလွန်တရာ ပြည့်ကျပ် နေ သည် ။\n"
     ]
    }
   ],
   "source": [
    "!tail ./dict_only_bimmfallback_bimmboost150_otest.seg"
   ]
  },
  {
   "cell_type": "markdown",
   "id": "58348443-c38d-46fb-b700-048f834315f1",
   "metadata": {},
   "source": [
    "## Evaluation"
   ]
  },
  {
   "cell_type": "code",
   "execution_count": 20,
   "id": "f0d2884f-60b7-4aa2-b40f-03f945636940",
   "metadata": {},
   "outputs": [
    {
     "name": "stdout",
     "output_type": "stream",
     "text": [
      "/home/ye/exp/myTokenizer/oppaWord\n"
     ]
    }
   ],
   "source": [
    "cd .."
   ]
  },
  {
   "cell_type": "code",
   "execution_count": 22,
   "id": "284bee03-a432-431d-9707-f936e1ce6e78",
   "metadata": {},
   "outputs": [
    {
     "name": "stdout",
     "output_type": "stream",
     "text": [
      "correct_my_punc.py  eval_segmentation.py  evaluate.py\n"
     ]
    }
   ],
   "source": [
    "!ls ./tools/"
   ]
  },
  {
   "cell_type": "code",
   "execution_count": 23,
   "id": "4b618992-c94b-45a8-b7b2-1dfcb6eb3a56",
   "metadata": {},
   "outputs": [
    {
     "name": "stdout",
     "output_type": "stream",
     "text": [
      "\n",
      "Word Segmentation Evaluation Results\n",
      "============================================================\n",
      "Metric                         Score\n",
      "------------------------------------------------------------\n",
      "Word Precision                0.8857\n",
      "Word Recall                   0.8454\n",
      "Word F1-score                 0.8651\n",
      "------------------------------------------------------------\n",
      "Boundary Precision            0.5516\n",
      "Boundary Recall               0.5265\n",
      "Boundary F1-score             0.5387\n",
      "------------------------------------------------------------\n",
      "Vocab Precision               0.8139\n",
      "Vocab Recall                  0.9184\n",
      "Vocab F1-score                0.8630\n",
      "============================================================\n",
      "\n",
      "Additional Statistics:\n",
      "Reference words: 13468\n",
      "Hypothesis words: 12856\n",
      "Correct words: 11386\n",
      "Reference vocabulary size: 2709\n",
      "Hypothesis vocabulary size: 3057\n",
      "Common vocabulary: 2488\n",
      "\n",
      "Top Segmentation Errors Analysis\n",
      "============================================================\n",
      "Total errors: 5665\n",
      "\n",
      "Most Frequent Over-Segmentation Errors (System split where it shouldn't):\n",
      "\n",
      "Most Frequent Under-Segmentation Errors (System joined what should be separate):\n",
      "\n",
      "Most Frequent Complex Boundary Errors:\n",
      "   81 × REF: 'တယ်' → HYP: '။'\n",
      "   74 × REF: 'ပါ' → HYP: '။'\n",
      "   57 × REF: 'သည်' → HYP: '။'\n",
      "   42 × REF: 'ပါ' → HYP: 'ပါတယ်'\n",
      "   24 × REF: 'မယ်' → HYP: '။'\n",
      "   18 × REF: 'ဘူး' → HYP: '။'\n",
      "   18 × REF: 'လဲ' → HYP: '။'\n",
      "   17 × REF: 'လား' → HYP: '။'\n",
      "   16 × REF: 'ဖြစ်' → HYP: 'သည်'\n",
      "   15 × REF: 'ခဲ့' → HYP: 'သည်'\n"
     ]
    }
   ],
   "source": [
    "!python ./tools/eval_segmentation.py -r ./data/otest.1k.word -H ./exp_2/dict_only_bimmfallback_bimmboost150_otest.seg --top-k 10"
   ]
  },
  {
   "cell_type": "markdown",
   "id": "9a5aecb3-e211-4ffd-aa1b-d900511c5e46",
   "metadata": {},
   "source": [
    "## oppaWord with myg2p_mypos.dict + post_rules"
   ]
  },
  {
   "cell_type": "code",
   "execution_count": 26,
   "id": "b6b2c3ab-fa1c-4fa1-810d-aa590197ba7c",
   "metadata": {},
   "outputs": [
    {
     "name": "stdout",
     "output_type": "stream",
     "text": [
      "  31   62 1250 ./data/rules.txt\n"
     ]
    }
   ],
   "source": [
    "!wc ./data/rules.txt"
   ]
  },
  {
   "cell_type": "code",
   "execution_count": 27,
   "id": "815b7b4a-1b18-4d34-ac71-ddf9ecefdb06",
   "metadata": {},
   "outputs": [
    {
     "name": "stdout",
     "output_type": "stream",
     "text": [
      "ပါတယ်|||ပါ တယ်\n",
      "မရှိ|||မ ရှိ\n",
      "ဒီနေ့|||ဒီ နေ့\n",
      "ဖြစ်သည်|||ဖြစ် သည်\n",
      "ခဲ့သည်|||ခဲ့ သည်\n",
      "သူက|||သူ က\n",
      "မဟုတ်|||မ ဟုတ်\n",
      "များကို|||များ ကို\n",
      "ပါဘူး|||ပါ ဘူး\n",
      "ကတော့|||က တော့\n",
      "ရှိတယ်|||ရှိ တယ်\n",
      "ချင်ပါ|||ချင် ပါ\n",
      "ချင်တယ်|||ချင် တယ်\n",
      "မြန်မာနိုင်ငံ|||မြန်မာ နိုင်ငံ\n",
      "တို့၏|||တို့ ၏\n",
      "ပါသလဲ|||ပါ သလဲ\n",
      "မှာရှိ|||မှာ ရှိ\n",
      "များ၏|||များ ၏\n",
      "ထင်တယ်|||ထင် တယ်\n",
      "မှာထား|||မှာ ထား\n",
      "စီးပွားရေး|||စီးပွား ရေး\n",
      "အလုပ်လုပ်|||အလုပ် လုပ်\n",
      "တာနဲ့|||တာ နဲ့\n",
      "လိုက်ပါ|||လိုက် ပါ\n",
      "ဒီဟာ|||ဒီ ဟာ\n",
      "သူများ|||သူ များ\n",
      "သူ၏|||သူ ၏\n",
      "ဟုတ်လား|||ဟုတ် လား\n",
      "တစ်ဦး|||တစ် ဦး\n",
      "နံ ပါတ်|||နံပါတ်\n",
      "(\\S)([၊။])|||\\1 \\2\n"
     ]
    }
   ],
   "source": [
    "!cat ./data/rules.txt"
   ]
  },
  {
   "cell_type": "code",
   "execution_count": 28,
   "id": "386b8a32-5185-4275-a584-f105a5898f02",
   "metadata": {},
   "outputs": [
    {
     "name": "stdout",
     "output_type": "stream",
     "text": [
      "\n",
      "real\t0m0.108s\n",
      "user\t0m0.099s\n",
      "sys\t0m0.009s\n"
     ]
    }
   ],
   "source": [
    "!time python oppa_word.py \\\n",
    "  --input \"./data/otest.1k.word\" \\\n",
    "  --output \"exp_2/dict_rules_bimmfallback_bimmboost150_otest.seg\" \\\n",
    "  --space-remove-mode \"my_not_num\" \\\n",
    "  --dict \"./data/myg2p_mypos.dict\" \\\n",
    "  --postrule-file \"./data/rules.txt\" \\\n",
    "  --use-bimm-fallback \\\n",
    "  --bimm-boost 150"
   ]
  },
  {
   "cell_type": "code",
   "execution_count": 29,
   "id": "5cb657bc-7335-4a23-ac64-63905c68c6f1",
   "metadata": {},
   "outputs": [
    {
     "name": "stdout",
     "output_type": "stream",
     "text": [
      "  1000  13170 180502 ./exp_2/dict_rules_bimmfallback_bimmboost150_otest.seg\n"
     ]
    }
   ],
   "source": [
    "!wc ./exp_2/dict_rules_bimmfallback_bimmboost150_otest.seg"
   ]
  },
  {
   "cell_type": "code",
   "execution_count": 30,
   "id": "6a2536e8-adbb-4823-9f4b-5fd18c7e3bfd",
   "metadata": {},
   "outputs": [
    {
     "name": "stdout",
     "output_type": "stream",
     "text": [
      "တစ် ကိုက် ကို ဝမ် ခုနှစ်ထောင် ပါ ။\n",
      "မနှစ် က သူ ကျွန်မ ကို သင်ပေး တယ် ။\n",
      "ကျွန်တော့် ခုံ သွား ရှာ မလို့ ။\n",
      "အတန်း စတာ ကြာ ပြီ လား ။\n",
      "ဆေး နည်းနည်း စား လိုက် ၊ သုံး လေး ရက် လောက် အနားယူ လိုက် ရင် ပျောက် သွား မှာ ပါ ။\n",
      "အေးချမ်း မှု နဲ့ စည်းကမ်း ကို တည်မြဲ အောင် ထိန်းသိမ်း သည် ။\n",
      "ဇွန်း ကို လိုအပ် တယ် ။\n",
      "ဘွဲ့ရ ရင် ဘာ လုပ် မလို့ လဲ ။\n",
      "ကျွန်တော် ချောင်းဆိုး ခြင်း အတွက် တစ်ခုခု လို ချင် တယ် ။\n",
      "အသီးအနှံ တို့ မှ လွဲလျှင် လူ တို့ ၏ အဓိက အစားအစာ မှာ ငါး ဖြစ် သည် ။\n"
     ]
    }
   ],
   "source": [
    "!head ./exp_2/dict_rules_bimmfallback_bimmboost150_otest.seg"
   ]
  },
  {
   "cell_type": "code",
   "execution_count": 31,
   "id": "fb8c9f18-d472-4e56-b9b5-afd106ff680c",
   "metadata": {},
   "outputs": [
    {
     "name": "stdout",
     "output_type": "stream",
     "text": [
      "အိုးခွက်ပန်းကန် တွေ သိပ် မ ရှိ လို့ ထမင်းဟင်း ချက် ရ တာ အဆင်မပြေ ဘူး ။\n",
      "စိတ်ဝင်စား ဖို့ ကောင်း တယ် ။\n",
      "ဒီ ဆေး ကို တဝက် စီ ခွဲ ပေး ပါ ။\n",
      "ရောင်း ကောင်း လား ။\n",
      "ဆရာ ဒီ သွား က ခဏခဏ နာ နေ တယ် ။\n",
      "အခု ဘာ လုပ် နေ လဲ ။\n",
      "ဇူ လိုင် ၁၄ ရက် မှာ ဘန်ကောက် ကို သွား မယ့် US 123 မှာ ပါ ။ ဟုတ် လား ။\n",
      "ကား မှ ကားဘီး ကို ဖြုတ် လိုက် သည် ။\n",
      "ကျွန်တော် သိ ပါရစေ ။\n",
      "ဘူတာရုံ က အလွန်တရာ ပြည့်ကျပ် နေ သည် ။\n"
     ]
    }
   ],
   "source": [
    "!tail ./exp_2/dict_rules_bimmfallback_bimmboost150_otest.seg"
   ]
  },
  {
   "cell_type": "markdown",
   "id": "0c81b7ac-12b2-46dd-b896-865dc6166a1d",
   "metadata": {},
   "source": [
    "## Evaluation"
   ]
  },
  {
   "cell_type": "code",
   "execution_count": 32,
   "id": "f6eb8ee2-d3b2-460d-84b4-694220a09929",
   "metadata": {},
   "outputs": [
    {
     "name": "stdout",
     "output_type": "stream",
     "text": [
      "\n",
      "Word Segmentation Evaluation Results\n",
      "============================================================\n",
      "Metric                         Score\n",
      "------------------------------------------------------------\n",
      "Word Precision                0.9094\n",
      "Word Recall                   0.8893\n",
      "Word F1-score                 0.8992\n",
      "------------------------------------------------------------\n",
      "Boundary Precision            0.6116\n",
      "Boundary Recall               0.5981\n",
      "Boundary F1-score             0.6048\n",
      "------------------------------------------------------------\n",
      "Vocab Precision               0.8183\n",
      "Vocab Recall                  0.9158\n",
      "Vocab F1-score                0.8643\n",
      "============================================================\n",
      "\n",
      "Additional Statistics:\n",
      "Reference words: 13468\n",
      "Hypothesis words: 13170\n",
      "Correct words: 11977\n",
      "Reference vocabulary size: 2709\n",
      "Hypothesis vocabulary size: 3032\n",
      "Common vocabulary: 2481\n",
      "\n",
      "Top Segmentation Errors Analysis\n",
      "============================================================\n",
      "Total errors: 4966\n",
      "\n",
      "Most Frequent Over-Segmentation Errors (System split where it shouldn't):\n",
      "\n",
      "Most Frequent Under-Segmentation Errors (System joined what should be separate):\n",
      "\n",
      "Most Frequent Complex Boundary Errors:\n",
      "   50 × REF: 'တယ်' → HYP: '။'\n",
      "   49 × REF: 'သည်' → HYP: '။'\n",
      "   39 × REF: 'ပါ' → HYP: '။'\n",
      "   20 × REF: 'ပါ' → HYP: 'တယ်'\n",
      "   19 × REF: '။' → HYP: 'သည်'\n",
      "   19 × REF: 'မယ်' → HYP: '။'\n",
      "   17 × REF: 'လား' → HYP: '။'\n",
      "   17 × REF: 'ဖြစ်' → HYP: 'သည်'\n",
      "   13 × REF: 'ဘူး' → HYP: '။'\n",
      "   12 × REF: 'လဲ' → HYP: '။'\n"
     ]
    }
   ],
   "source": [
    "!python ./tools/eval_segmentation.py -r ./data/otest.1k.word -H ./exp_2/dict_rules_bimmfallback_bimmboost150_otest.seg --top-k 10"
   ]
  },
  {
   "cell_type": "markdown",
   "id": "856f6424-d6ee-4b25-92e5-df264e733d15",
   "metadata": {},
   "source": [
    "## oppaWord with myg2p_mypos.dict (Closed-test)"
   ]
  },
  {
   "cell_type": "code",
   "execution_count": 33,
   "id": "6cf3277d-a57e-4fe7-8e23-aa485bb86f2d",
   "metadata": {},
   "outputs": [
    {
     "name": "stdout",
     "output_type": "stream",
     "text": [
      "\n",
      "real\t0m0.628s\n",
      "user\t0m0.614s\n",
      "sys\t0m0.014s\n"
     ]
    }
   ],
   "source": [
    "!time python oppa_word.py \\\n",
    "  --input \"./data/10k_test.txt\" \\\n",
    "  --output \"exp_2/dict_only_bimmfallback_bimmboost150_ctest.seg\" \\\n",
    "  --space-remove-mode \"my_not_num\" \\\n",
    "  --dict \"./data/myg2p_mypos.dict\" \\\n",
    "  --use-bimm-fallback \\\n",
    "  --bimm-boost 150"
   ]
  },
  {
   "cell_type": "code",
   "execution_count": 34,
   "id": "fd240895-febc-4e5a-8a25-a0b1ab64e790",
   "metadata": {},
   "outputs": [
    {
     "name": "stdout",
     "output_type": "stream",
     "text": [
      "  10000  112271 1680793 ./exp_2/dict_only_bimmfallback_bimmboost150_ctest.seg\n"
     ]
    }
   ],
   "source": [
    "!wc ./exp_2/dict_only_bimmfallback_bimmboost150_ctest.seg"
   ]
  },
  {
   "cell_type": "code",
   "execution_count": 35,
   "id": "987d4010-5e3f-4f5a-9ea7-4df152d8f45b",
   "metadata": {},
   "outputs": [
    {
     "name": "stdout",
     "output_type": "stream",
     "text": [
      "၁၉၆၂ ခုနှစ် ခန့်မှန်း သန်းခေါင်စာရင်း အရ လူဦး ရေ ၁၁၅၉၃၁ ယောက် ရှိ သည်\n",
      "လူ တိုင်း တွင် သင့်မြတ် လျော်ကန် စွာ ကန့်သတ် ထား သည့် အလုပ်လုပ်ချိန် အပြင် လစာ နှင့်တကွ အခါ ကာလ အားလျော်စွာ သတ်မှတ် ထား သည့် အလုပ် အားလပ်ရက် များ ပါဝင် သည့် အနားယူခွင့် နှင့် အားလပ်ခွင့် ခံစားပိုင်ခွင့် ရှိ သည်\n",
      "ဤ နည်း ကို စစ်ယူ သော နည်း ဟု ခေါ် သည်\n",
      "စာပြန်ပွဲ ဆို တာ က အာဂုံဆောင် အလွတ်ကျက် ထား တဲ့ ပိဋကတ်သုံးပုံ စာပေ တွေ ကို စာစစ် သံဃာတော်ကြီး တွေ ရဲ့ ရှေ့မှာ အလွတ် ပြန် ပြီး ရွတ်ပြ ရ တာ ပေါ့\n",
      "ဒီ မှာ ကျွန်တော့် သက်သေခံကတ် ပါ\n",
      "၂ ဝ ရာစု မြန်မာ့ သမိုင်း သန်း ဝင်း လှိုင် ၂ ဝ ဝ၉ ခု မေ လ ကံကော်ဝတ်ရည် စာပေ\n",
      "ကျွန်တော် မျက်မှန် တစ် လက်လုပ် ချင်ပါတယ်\n",
      "ကျွန်တော် တို့ က ဒီ အမှု ရဲ့ ကြံရာပါ ကို ဖမ်းမိ ဖို့ ကြိုးစား ခဲ့ တယ်\n",
      "ကလေး မီးဖွား ဖို့ ခန့်မှန်း ရက် က ဘယ်တော့ ပါ လဲ\n",
      "အရိုးရှင်းဆုံး ကာဗိုဟိုက်ဒရိတ် မှာ ဂလူးကို့စ် ဂလက်တို့စ် ဖရပ်တို့စ် စသည့် မိုနိုဆက်ကရိုက် များ ဖြစ် သည်\n"
     ]
    }
   ],
   "source": [
    "!head ./exp_2/dict_only_bimmfallback_bimmboost150_ctest.seg"
   ]
  },
  {
   "cell_type": "code",
   "execution_count": 36,
   "id": "5868e6a3-45aa-4aaa-932c-087dd052eded",
   "metadata": {},
   "outputs": [
    {
     "name": "stdout",
     "output_type": "stream",
     "text": [
      "ကျွန်တော် စိန် နဲ့ တစ် ခုလို ချင်ပါတယ်\n",
      "ကြိုးကြာ\n",
      "သူ အဘိဓာန်စာလုံး ရှာ တတ် ပါတယ်\n",
      "ဪ ကျွန်တော် မျက်စိလည် နေ ပြီ ထင်တယ် ဒီ နေရာ က နေ ဘူတာရုံ ကို ဘယ်လို သွား ရ မလဲ\n",
      "လော့အိန်ဂျလိစ် က နေ တိုကျို ကို လေယာဉ်ခ ဘယ်လောက် လဲ\n",
      "ပထမဆုံး အဆင်ပြေ မယ့် လေယာဉ် လို ချင်ပါတယ်\n",
      "ရေထွက်ပစ္စည်း များ ထုတ်လုပ် မှု တွင် လည်း တန် ချိန် ၄၁.၂၂၄ သန်း ထိ ၁၉၇၈ ခုနှစ် ထက် ၈.၈ ဆတိုး တက် ထုတ်လုပ် နိုင် ခဲ့ သည်\n",
      "ဟုတ်တယ် ဟင်းသီးဟင်းရွက် သွား ဝယ် ရအောင်\n",
      "ဆရာကြီး က ၄ နာရီ လောက် ဆို အလုပ် နည်းနည်း ရှင်း ပြီ ၅ နာရီ မှ ရုံးဆင်း မှာ ဆို တော့ တစ်နာရီ လောက် တော့ တွေ့ ချိန် ရ မှာ ပဲ\n",
      "ဝင်ခွင့် ဈေးနှုန်း ရော ပါ လား\n"
     ]
    }
   ],
   "source": [
    "!tail ./exp_2/dict_only_bimmfallback_bimmboost150_ctest.seg"
   ]
  },
  {
   "cell_type": "markdown",
   "id": "4fbd0eac-c2c4-427f-ae1f-b4093972c99d",
   "metadata": {},
   "source": [
    "## Check Codepoints"
   ]
  },
  {
   "cell_type": "code",
   "execution_count": 42,
   "id": "742ef0f0-c51a-4e57-aa00-844f8ca13185",
   "metadata": {},
   "outputs": [
    {
     "name": "stdout",
     "output_type": "stream",
     "text": [
      "၂ ဝ ရာစု မြန်မာ့ သမိုင်း သန်း ဝင်း လှိုင် ၂ ဝ ဝ၉ ခု မေ လ ကံကော်ဝတ်ရည် စာပေ\n",
      "၂ (4162, U1042)   (32, U20) ဝ (4125, U101d)   (32, U20) ရ (4123, U101b) ာ (4140, U102c) စ (4101, U1005) ု (4143, U102f)   (32, U20) မ (4121, U1019) ြ (4156, U103c) န (4116, U1014) ် (4154, U103a) မ (4121, U1019) ာ (4140, U102c) ့ (4151, U1037)   (32, U20) သ (4126, U101e) မ (4121, U1019) ိ (4141, U102d) ု (4143, U102f) င (4100, U1004) ် (4154, U103a) း (4152, U1038)   (32, U20) သ (4126, U101e) န (4116, U1014) ် (4154, U103a) း (4152, U1038)   (32, U20) ဝ (4125, U101d) င (4100, U1004) ် (4154, U103a) း (4152, U1038)   (32, U20) လ (4124, U101c) ှ (4158, U103e) ိ (4141, U102d) ု (4143, U102f) င (4100, U1004) ် (4154, U103a)   (32, U20) ၂ (4162, U1042)   (32, U20) ဝ (4125, U101d)   (32, U20) ဝ (4125, U101d) ၉ (4169, U1049)   (32, U20) ခ (4097, U1001) ု (4143, U102f)   (32, U20) မ (4121, U1019) ေ (4145, U1031)   (32, U20) လ (4124, U101c)   (32, U20) က (4096, U1000) ံ (4150, U1036) က (4096, U1000) ေ (4145, U1031) ာ (4140, U102c) ် (4154, U103a) ဝ (4125, U101d) တ (4112, U1010) ် (4154, U103a) ရ (4123, U101b) ည (4106, U100a) ် (4154, U103a)   (32, U20) စ (4101, U1005) ာ (4140, U102c) ပ (4117, U1015) ေ (4145, U1031) , no. of char = 74\n",
      "၀၀၇\n",
      "၀ (4160, U1040) ၀ (4160, U1040) ၇ (4167, U1047) , no. of char = 3\n"
     ]
    }
   ],
   "source": [
    "!perl ./tools/print-codepoint.pl ./exp_2/chk_wa_zero.txt"
   ]
  },
  {
   "cell_type": "code",
   "execution_count": 45,
   "id": "0ac2afda-41d9-446f-9b83-4fa19928fc12",
   "metadata": {},
   "outputs": [
    {
     "name": "stdout",
     "output_type": "stream",
     "text": [
      "usage: eval_segmentation.py [-h] -r REFERENCE [-H HYPOTHESIS] [--top-k TOP_K]\n",
      "                            [--no-errors]\n",
      "\n",
      "Enhanced Word Segmentation Evaluator with Error Analysis\n",
      "\n",
      "options:\n",
      "  -h, --help            show this help message and exit\n",
      "  -r REFERENCE, --reference REFERENCE\n",
      "                        Reference (gold standard) file (default: None)\n",
      "  -H HYPOTHESIS, --hypothesis HYPOTHESIS\n",
      "                        Hypothesis (system output) file (use - for stdin)\n",
      "                        (default: -)\n",
      "  --top-k TOP_K         Show top K most frequent errors (default: 10)\n",
      "  --no-errors           Skip error analysis to save time (default: False)\n"
     ]
    }
   ],
   "source": [
    "!python ./tools/eval_segmentation.py --help"
   ]
  },
  {
   "cell_type": "code",
   "execution_count": 46,
   "id": "8b46681d-8974-4953-a441-0350dbcb51cf",
   "metadata": {},
   "outputs": [
    {
     "name": "stdout",
     "output_type": "stream",
     "text": [
      "\n",
      "Word Segmentation Evaluation Results\n",
      "============================================================\n",
      "Metric                         Score\n",
      "------------------------------------------------------------\n",
      "Word Precision                0.8795\n",
      "Word Recall                   0.8378\n",
      "Word F1-score                 0.8582\n",
      "------------------------------------------------------------\n",
      "Boundary Precision            0.5635\n",
      "Boundary Recall               0.5368\n",
      "Boundary F1-score             0.5498\n",
      "------------------------------------------------------------\n",
      "Vocab Precision               0.8242\n",
      "Vocab Recall                  0.9228\n",
      "Vocab F1-score                0.8707\n",
      "============================================================\n",
      "\n",
      "Additional Statistics:\n",
      "Reference words: 117857\n",
      "Hypothesis words: 112271\n",
      "Correct words: 98746\n",
      "Reference vocabulary size: 10840\n",
      "Hypothesis vocabulary size: 12137\n",
      "Common vocabulary: 10003\n",
      "\n",
      "Top Segmentation Errors Analysis\n",
      "============================================================\n",
      "Total errors: 47862\n",
      "\n",
      "Most Frequent Over-Segmentation Errors (System split where it shouldn't):\n",
      "\n",
      "Most Frequent Under-Segmentation Errors (System joined what should be separate):\n",
      "\n",
      "Most Frequent Complex Boundary Errors:\n",
      "  430 × REF: 'ပါ' → HYP: 'ပါတယ်'\n",
      "  119 × REF: 'ဖြစ်' → HYP: 'သည်'\n",
      "  118 × REF: 'ဒီ' → HYP: 'ဒီနေ့'\n",
      "  108 × REF: 'မ' → HYP: 'မရှိ'\n",
      "   91 × REF: 'သူ' → HYP: 'သူက'\n",
      "   81 × REF: 'ခဲ့' → HYP: 'သည်'\n",
      "   81 × REF: 'မ' → HYP: 'မဟုတ်'\n",
      "   71 × REF: 'က' → HYP: 'ကတော့'\n",
      "   68 × REF: 'ရှိ' → HYP: 'ရှိတယ်'\n",
      "   66 × REF: 'ခဲ့' → HYP: 'တယ်'\n"
     ]
    }
   ],
   "source": [
    "!python ./tools/eval_segmentation.py -r ./data/10k_test.txt -H ./exp_2/dict_only_bimmfallback_bimmboost150_ctest.seg"
   ]
  },
  {
   "cell_type": "markdown",
   "id": "965d0689-ba54-4c5b-b7c9-dfcf588d5a8e",
   "metadata": {},
   "source": [
    "## oppaWord with myg2p_mypos.dict+rules (Closed-test)"
   ]
  },
  {
   "cell_type": "code",
   "execution_count": 47,
   "id": "53759ebf-ddfe-4208-b07e-45d667e433f9",
   "metadata": {},
   "outputs": [
    {
     "name": "stdout",
     "output_type": "stream",
     "text": [
      "\n",
      "real\t0m0.662s\n",
      "user\t0m0.650s\n",
      "sys\t0m0.012s\n"
     ]
    }
   ],
   "source": [
    "!time python oppa_word.py \\\n",
    "  --input \"./data/10k_test.txt\" \\\n",
    "  --output \"exp_2/dict_rules_bimmfallback_bimmboost150_ctest.seg\" \\\n",
    "  --space-remove-mode \"my_not_num\" \\\n",
    "  --dict \"./data/myg2p_mypos.dict\" \\\n",
    "  --postrule-file \"./data/rules.txt\" \\\n",
    "  --use-bimm-fallback \\\n",
    "  --bimm-boost 150"
   ]
  },
  {
   "cell_type": "code",
   "execution_count": 48,
   "id": "00607ce4-ae00-4efe-bacf-b2f5c865c712",
   "metadata": {},
   "outputs": [
    {
     "name": "stdout",
     "output_type": "stream",
     "text": [
      "၁၉၆၂ ခုနှစ် ခန့်မှန်း သန်းခေါင်စာရင်း အရ လူဦး ရေ ၁၁၅၉၃၁ ယောက် ရှိ သည်\n",
      "လူ တိုင်း တွင် သင့်မြတ် လျော်ကန် စွာ ကန့်သတ် ထား သည့် အလုပ် လုပ်ချိန် အပြင် လစာ နှင့်တကွ အခါ ကာလ အားလျော်စွာ သတ်မှတ် ထား သည့် အလုပ် အားလပ်ရက် များ ပါဝင် သည့် အနားယူခွင့် နှင့် အားလပ်ခွင့် ခံစားပိုင်ခွင့် ရှိ သည်\n",
      "ဤ နည်း ကို စစ်ယူ သော နည်း ဟု ခေါ် သည်\n",
      "စာပြန်ပွဲ ဆို တာ က အာဂုံဆောင် အလွတ်ကျက် ထား တဲ့ ပိဋကတ်သုံးပုံ စာပေ တွေ ကို စာစစ် သံဃာတော်ကြီး တွေ ရဲ့ ရှေ့မှာ အလွတ် ပြန် ပြီး ရွတ်ပြ ရ တာ ပေါ့\n",
      "ဒီ မှာ ကျွန်တော့် သက်သေခံကတ် ပါ\n",
      "၂ ဝ ရာစု မြန်မာ့ သမိုင်း သန်း ဝင်း လှိုင် ၂ ဝ ဝ၉ ခု မေ လ ကံကော်ဝတ်ရည် စာပေ\n",
      "ကျွန်တော် မျက်မှန် တစ် လက်လုပ် ချင် ပါ တယ်\n",
      "ကျွန်တော် တို့ က ဒီ အမှု ရဲ့ ကြံရာပါ ကို ဖမ်းမိ ဖို့ ကြိုးစား ခဲ့ တယ်\n",
      "ကလေး မီးဖွား ဖို့ ခန့်မှန်း ရက် က ဘယ်တော့ ပါ လဲ\n",
      "အရိုးရှင်းဆုံး ကာဗိုဟိုက်ဒရိတ် မှာ ဂလူးကို့စ် ဂလက်တို့စ် ဖရပ်တို့စ် စသည့် မိုနိုဆက်ကရိုက် များ ဖြစ် သည်\n"
     ]
    }
   ],
   "source": [
    "!head ./exp_2/dict_rules_bimmfallback_bimmboost150_ctest.seg"
   ]
  },
  {
   "cell_type": "code",
   "execution_count": 49,
   "id": "1c3037e3-c610-4d34-a27e-07e1f1104632",
   "metadata": {
    "scrolled": true
   },
   "outputs": [
    {
     "name": "stdout",
     "output_type": "stream",
     "text": [
      "\n",
      "Word Segmentation Evaluation Results\n",
      "============================================================\n",
      "Metric                         Score\n",
      "------------------------------------------------------------\n",
      "Word Precision                0.9034\n",
      "Word Recall                   0.8807\n",
      "Word F1-score                 0.8919\n",
      "------------------------------------------------------------\n",
      "Boundary Precision            0.6263\n",
      "Boundary Recall               0.6106\n",
      "Boundary F1-score             0.6184\n",
      "------------------------------------------------------------\n",
      "Vocab Precision               0.8245\n",
      "Vocab Recall                  0.9208\n",
      "Vocab F1-score                0.8700\n",
      "============================================================\n",
      "\n",
      "Additional Statistics:\n",
      "Reference words: 117857\n",
      "Hypothesis words: 114896\n",
      "Correct words: 103794\n",
      "Reference vocabulary size: 10840\n",
      "Hypothesis vocabulary size: 12107\n",
      "Common vocabulary: 9982\n",
      "\n",
      "Top Segmentation Errors Analysis\n",
      "============================================================\n",
      "Total errors: 41517\n",
      "\n",
      "Most Frequent Over-Segmentation Errors (System split where it shouldn't):\n",
      "\n",
      "Most Frequent Under-Segmentation Errors (System joined what should be separate):\n",
      "\n",
      "Most Frequent Complex Boundary Errors:\n",
      "  155 × REF: 'ပါ' → HYP: 'တယ်'\n",
      "  100 × REF: 'ဖြစ်' → HYP: 'သည်'\n",
      "   73 × REF: 'ခဲ့' → HYP: 'သည်'\n",
      "   59 × REF: 'ကြ' → HYP: 'သည်'\n",
      "   58 × REF: 'ခဲ့' → HYP: 'တယ်'\n",
      "   55 × REF: 'ပေး' → HYP: 'ပါ'\n",
      "   54 × REF: 'များ' → HYP: 'ကို'\n",
      "   52 × REF: 'ချင်' → HYP: 'ပါ'\n",
      "   52 × REF: 'သည်' → HYP: 'ခဲ့'\n",
      "   50 × REF: 'မ' → HYP: 'ရှိ'\n"
     ]
    }
   ],
   "source": [
    "!python ./tools/eval_segmentation.py -r ./data/10k_test.txt -H ./exp_2/dict_rules_bimmfallback_bimmboost150_ctest.seg"
   ]
  },
  {
   "cell_type": "markdown",
   "id": "067de600-f9e3-4caf-b4fa-ab26033f688d",
   "metadata": {},
   "source": [
    "## with Bigger Dictionary, open-test \n",
    "\n",
    "ဒီတခါတော့ myG2P+myPOS+Name Dictionary ကို သုံးမယ်။  "
   ]
  },
  {
   "cell_type": "code",
   "execution_count": 50,
   "id": "c6f18d2c-d71c-4830-a2b9-55c2e0b7cbe4",
   "metadata": {},
   "outputs": [
    {
     "name": "stdout",
     "output_type": "stream",
     "text": [
      "\n",
      "real\t0m0.145s\n",
      "user\t0m0.128s\n",
      "sys\t0m0.016s\n"
     ]
    }
   ],
   "source": [
    "!time python oppa_word.py \\\n",
    "  --input \"./data/otest.1k.word\" \\\n",
    "  --output \"exp_2/big_only_bimmfallback_bimmboost150_otest.seg\" \\\n",
    "  --space-remove-mode \"my_not_num\" \\\n",
    "  --dict \"./data/myg2p_mypos_name.dict\" \\\n",
    "  --use-bimm-fallback \\\n",
    "  --bimm-boost 150"
   ]
  },
  {
   "cell_type": "markdown",
   "id": "7a39aa30-8cfb-40ca-8d01-4b6c404f6f25",
   "metadata": {},
   "source": [
    "## Evaluation"
   ]
  },
  {
   "cell_type": "code",
   "execution_count": 51,
   "id": "b215146f-a90c-4bb8-9250-103bebd48d0d",
   "metadata": {
    "scrolled": true
   },
   "outputs": [
    {
     "name": "stdout",
     "output_type": "stream",
     "text": [
      "\n",
      "Word Segmentation Evaluation Results\n",
      "============================================================\n",
      "Metric                         Score\n",
      "------------------------------------------------------------\n",
      "Word Precision                0.8813\n",
      "Word Recall                   0.8388\n",
      "Word F1-score                 0.8595\n",
      "------------------------------------------------------------\n",
      "Boundary Precision            0.5349\n",
      "Boundary Recall               0.5091\n",
      "Boundary F1-score             0.5216\n",
      "------------------------------------------------------------\n",
      "Vocab Precision               0.8036\n",
      "Vocab Recall                  0.9151\n",
      "Vocab F1-score                0.8557\n",
      "============================================================\n",
      "\n",
      "Additional Statistics:\n",
      "Reference words: 13468\n",
      "Hypothesis words: 12818\n",
      "Correct words: 11297\n",
      "Reference vocabulary size: 2709\n",
      "Hypothesis vocabulary size: 3085\n",
      "Common vocabulary: 2479\n",
      "\n",
      "Top Segmentation Errors Analysis\n",
      "============================================================\n",
      "Total errors: 5862\n",
      "\n",
      "Most Frequent Over-Segmentation Errors (System split where it shouldn't):\n",
      "\n",
      "Most Frequent Under-Segmentation Errors (System joined what should be separate):\n",
      "\n",
      "Most Frequent Complex Boundary Errors:\n",
      "   83 × REF: 'တယ်' → HYP: '။'\n",
      "   74 × REF: 'ပါ' → HYP: '။'\n",
      "   62 × REF: 'သည်' → HYP: '။'\n",
      "   42 × REF: 'ပါ' → HYP: 'ပါတယ်'\n",
      "   26 × REF: 'မယ်' → HYP: '။'\n",
      "   19 × REF: 'ဘူး' → HYP: '။'\n",
      "   18 × REF: 'လဲ' → HYP: '။'\n",
      "   18 × REF: 'ဖြစ်' → HYP: 'သည်'\n",
      "   17 × REF: 'လား' → HYP: '။'\n",
      "   17 × REF: 'ခဲ့' → HYP: 'သည်'\n",
      "   15 × REF: '။' → HYP: 'သည်'\n",
      "   13 × REF: 'ဒီ' → HYP: 'ဒီနေ့'\n",
      "   12 × REF: 'မ' → HYP: 'မရှိ'\n",
      "   12 × REF: 'သလဲ' → HYP: '။'\n",
      "   11 × REF: 'တယ်' → HYP: '၊'\n",
      "   10 × REF: 'ခဲ့' → HYP: 'တယ်'\n",
      "   10 × REF: 'ရှိ' → HYP: '။'\n",
      "   10 × REF: 'ပါ' → HYP: 'ပါသလဲ'\n",
      "    9 × REF: 'ချင်' → HYP: 'ချင်တယ်'\n",
      "    9 × REF: 'ရ' → HYP: '။'\n"
     ]
    }
   ],
   "source": [
    "!python ./tools/eval_segmentation.py -r ./data/otest.1k.word -H ./exp_2/big_only_bimmfallback_bimmboost150_otest.seg --top-k 20"
   ]
  },
  {
   "cell_type": "markdown",
   "id": "a3f6d2bf-ae6a-435a-ad21-8350fbb26de6",
   "metadata": {},
   "source": [
    "## with Bigger Dictionary+Rules, open-test \n"
   ]
  },
  {
   "cell_type": "code",
   "execution_count": 52,
   "id": "49d1f0b0-6950-420c-a8d7-d57d0905eda0",
   "metadata": {},
   "outputs": [
    {
     "name": "stdout",
     "output_type": "stream",
     "text": [
      "\n",
      "real\t0m0.143s\n",
      "user\t0m0.129s\n",
      "sys\t0m0.014s\n"
     ]
    }
   ],
   "source": [
    "!time python oppa_word.py \\\n",
    "  --input \"./data/otest.1k.word\" \\\n",
    "  --output \"exp_2/big_rules_bimmfallback_bimmboost150_otest.seg\" \\\n",
    "  --space-remove-mode \"my_not_num\" \\\n",
    "  --dict \"./data/myg2p_mypos_name.dict\" \\\n",
    "  --postrule-file \"./data/rules.txt\" \\\n",
    "  --use-bimm-fallback \\\n",
    "  --bimm-boost 150"
   ]
  },
  {
   "cell_type": "markdown",
   "id": "511f228f-88e4-40eb-901b-73289bdb80f0",
   "metadata": {},
   "source": [
    "## Evaluation"
   ]
  },
  {
   "cell_type": "code",
   "execution_count": 53,
   "id": "c24ac465-ef0b-4c6f-84c4-bdad08a3af83",
   "metadata": {},
   "outputs": [
    {
     "name": "stdout",
     "output_type": "stream",
     "text": [
      "\n",
      "Word Segmentation Evaluation Results\n",
      "============================================================\n",
      "Metric                         Score\n",
      "------------------------------------------------------------\n",
      "Word Precision                0.9055\n",
      "Word Recall                   0.8829\n",
      "Word F1-score                 0.8941\n",
      "------------------------------------------------------------\n",
      "Boundary Precision            0.5991\n",
      "Boundary Recall               0.5841\n",
      "Boundary F1-score             0.5915\n",
      "------------------------------------------------------------\n",
      "Vocab Precision               0.8078\n",
      "Vocab Recall                  0.9125\n",
      "Vocab F1-score                0.8570\n",
      "============================================================\n",
      "\n",
      "Additional Statistics:\n",
      "Reference words: 13468\n",
      "Hypothesis words: 13132\n",
      "Correct words: 11891\n",
      "Reference vocabulary size: 2709\n",
      "Hypothesis vocabulary size: 3060\n",
      "Common vocabulary: 2472\n",
      "\n",
      "Top Segmentation Errors Analysis\n",
      "============================================================\n",
      "Total errors: 5126\n",
      "\n",
      "Most Frequent Over-Segmentation Errors (System split where it shouldn't):\n",
      "\n",
      "Most Frequent Under-Segmentation Errors (System joined what should be separate):\n",
      "\n",
      "Most Frequent Complex Boundary Errors:\n",
      "   53 × REF: 'တယ်' → HYP: '။'\n",
      "   52 × REF: 'သည်' → HYP: '။'\n",
      "   38 × REF: 'ပါ' → HYP: '။'\n",
      "   20 × REF: '။' → HYP: 'သည်'\n",
      "   20 × REF: 'ပါ' → HYP: 'တယ်'\n",
      "   20 × REF: 'မယ်' → HYP: '။'\n",
      "   18 × REF: 'ဖြစ်' → HYP: 'သည်'\n",
      "   17 × REF: 'လား' → HYP: '။'\n",
      "   15 × REF: 'ဘူး' → HYP: '။'\n",
      "   12 × REF: 'လဲ' → HYP: '။'\n",
      "   10 × REF: 'ကြ' → HYP: 'သည်'\n",
      "    9 × REF: 'ခဲ့' → HYP: 'တယ်'\n",
      "    9 × REF: '။' → HYP: 'တယ်'\n",
      "    9 × REF: 'ခဲ့' → HYP: 'သည်'\n",
      "    8 × REF: 'ရ' → HYP: '။'\n",
      "    8 × REF: 'သည်' → HYP: 'ခဲ့'\n",
      "    8 × REF: 'ခဲ့' → HYP: '။'\n",
      "    8 × REF: 'ချင်' → HYP: 'တယ်'\n",
      "    7 × REF: 'တစ်' → HYP: 'တစ်ခုခု'\n",
      "    7 × REF: 'သည်' → HYP: 'ဖြစ်'\n"
     ]
    }
   ],
   "source": [
    "!python ./tools/eval_segmentation.py -r ./data/otest.1k.word -H ./exp_2/big_rules_bimmfallback_bimmboost150_otest.seg --top-k 20"
   ]
  },
  {
   "cell_type": "markdown",
   "id": "3f52acde-0947-4295-b98d-98b1bbf836c3",
   "metadata": {},
   "source": [
    "## Big Dictionary (Closed-Test)\n"
   ]
  },
  {
   "cell_type": "code",
   "execution_count": 54,
   "id": "ba446d41-3735-4fc7-96b9-ced267b1f933",
   "metadata": {},
   "outputs": [
    {
     "name": "stdout",
     "output_type": "stream",
     "text": [
      "\n",
      "real\t0m0.675s\n",
      "user\t0m0.659s\n",
      "sys\t0m0.016s\n"
     ]
    }
   ],
   "source": [
    "!time python oppa_word.py \\\n",
    "  --input \"./data/10k_test.txt\" \\\n",
    "  --output \"exp_2/big_only_bimmfallback_bimmboost150_ctest.seg\" \\\n",
    "  --space-remove-mode \"my_not_num\" \\\n",
    "  --dict \"./data/myg2p_mypos_name.dict\" \\\n",
    "  --use-bimm-fallback \\\n",
    "  --bimm-boost 150"
   ]
  },
  {
   "cell_type": "markdown",
   "id": "a379326f-22f4-415b-ab6e-d82ee959c0d6",
   "metadata": {},
   "source": [
    "## Evaluation"
   ]
  },
  {
   "cell_type": "code",
   "execution_count": 55,
   "id": "7c80444c-253a-4b05-bcdb-f8508c102b95",
   "metadata": {},
   "outputs": [
    {
     "name": "stdout",
     "output_type": "stream",
     "text": [
      "\n",
      "Word Segmentation Evaluation Results\n",
      "============================================================\n",
      "Metric                         Score\n",
      "------------------------------------------------------------\n",
      "Word Precision                0.8753\n",
      "Word Recall                   0.8311\n",
      "Word F1-score                 0.8526\n",
      "------------------------------------------------------------\n",
      "Boundary Precision            0.5545\n",
      "Boundary Recall               0.5265\n",
      "Boundary F1-score             0.5401\n",
      "------------------------------------------------------------\n",
      "Vocab Precision               0.8097\n",
      "Vocab Recall                  0.9221\n",
      "Vocab F1-score                0.8623\n",
      "============================================================\n",
      "\n",
      "Additional Statistics:\n",
      "Reference words: 117857\n",
      "Hypothesis words: 111909\n",
      "Correct words: 97949\n",
      "Reference vocabulary size: 10840\n",
      "Hypothesis vocabulary size: 12345\n",
      "Common vocabulary: 9996\n",
      "\n",
      "Top Segmentation Errors Analysis\n",
      "============================================================\n",
      "Total errors: 48805\n",
      "\n",
      "Most Frequent Over-Segmentation Errors (System split where it shouldn't):\n",
      "\n",
      "Most Frequent Under-Segmentation Errors (System joined what should be separate):\n",
      "\n",
      "Most Frequent Complex Boundary Errors:\n",
      "  421 × REF: 'ပါ' → HYP: 'ပါတယ်'\n",
      "  117 × REF: 'ဒီ' → HYP: 'ဒီနေ့'\n",
      "  114 × REF: 'ဖြစ်' → HYP: 'သည်'\n",
      "  106 × REF: 'မ' → HYP: 'မရှိ'\n",
      "   97 × REF: 'ခဲ့' → HYP: 'သည်'\n",
      "   88 × REF: 'သူ' → HYP: 'သူက'\n",
      "   79 × REF: 'မ' → HYP: 'မဟုတ်'\n",
      "   71 × REF: 'က' → HYP: 'ကတော့'\n",
      "   70 × REF: 'ကြ' → HYP: 'သည်'\n",
      "   68 × REF: 'ခဲ့' → HYP: 'တယ်'\n",
      "   67 × REF: 'ရှိ' → HYP: 'ရှိတယ်'\n",
      "   65 × REF: 'များ' → HYP: 'ကို'\n",
      "   61 × REF: 'ချင်' → HYP: 'ချင်တယ်'\n",
      "   56 × REF: 'ပေး' → HYP: 'ပါ'\n",
      "   56 × REF: 'မြန်မာ' → HYP: 'မြန်မာနိုင်ငံ'\n",
      "   54 × REF: 'တို့' → HYP: 'တို့၏'\n",
      "   53 × REF: 'ချင်' → HYP: 'ချင်ပါတယ်'\n",
      "   52 × REF: 'ပါ' → HYP: 'ဘူး'\n",
      "   51 × REF: 'မ' → HYP: 'ဘူး'\n",
      "   50 × REF: 'မှာ' → HYP: 'မှာရှိ'\n"
     ]
    }
   ],
   "source": [
    "!python ./tools/eval_segmentation.py -r ./data/10k_test.txt -H ./exp_2/big_only_bimmfallback_bimmboost150_ctest.seg --top-k 20"
   ]
  },
  {
   "cell_type": "markdown",
   "id": "34518898-4530-49de-a557-21b91f93f711",
   "metadata": {},
   "source": [
    "## Big Dictionary+Rules (Closed-Test)"
   ]
  },
  {
   "cell_type": "code",
   "execution_count": 57,
   "id": "76c98ad9-0041-4a89-b51e-fca0c485fdd1",
   "metadata": {},
   "outputs": [
    {
     "name": "stdout",
     "output_type": "stream",
     "text": [
      "\n",
      "real\t0m0.706s\n",
      "user\t0m0.685s\n",
      "sys\t0m0.014s\n"
     ]
    }
   ],
   "source": [
    "!time python oppa_word.py \\\n",
    "  --input \"./data/10k_test.txt\" \\\n",
    "  --output \"exp_2/big_rules_bimmfallback_bimmboost150_ctest.seg\" \\\n",
    "  --space-remove-mode \"my_not_num\" \\\n",
    "  --dict \"./data/myg2p_mypos_name.dict\" \\\n",
    "  --postrule-file \"./data/rules.txt\" \\\n",
    "  --use-bimm-fallback \\\n",
    "  --bimm-boost 150"
   ]
  },
  {
   "cell_type": "markdown",
   "id": "8acd88fa-73e1-4b05-8744-b2df400a21e5",
   "metadata": {},
   "source": [
    "## Evaluation"
   ]
  },
  {
   "cell_type": "code",
   "execution_count": 58,
   "id": "85683bba-7e61-4322-bcb0-becd66cb60c8",
   "metadata": {},
   "outputs": [
    {
     "name": "stdout",
     "output_type": "stream",
     "text": [
      "\n",
      "Word Segmentation Evaluation Results\n",
      "============================================================\n",
      "Metric                         Score\n",
      "------------------------------------------------------------\n",
      "Word Precision                0.8993\n",
      "Word Recall                   0.8739\n",
      "Word F1-score                 0.8864\n",
      "------------------------------------------------------------\n",
      "Boundary Precision            0.6158\n",
      "Boundary Recall               0.5984\n",
      "Boundary F1-score             0.6070\n",
      "------------------------------------------------------------\n",
      "Vocab Precision               0.8100\n",
      "Vocab Recall                  0.9202\n",
      "Vocab F1-score                0.8616\n",
      "============================================================\n",
      "\n",
      "Additional Statistics:\n",
      "Reference words: 117857\n",
      "Hypothesis words: 114527\n",
      "Correct words: 102990\n",
      "Reference vocabulary size: 10840\n",
      "Hypothesis vocabulary size: 12315\n",
      "Common vocabulary: 9975\n",
      "\n",
      "Top Segmentation Errors Analysis\n",
      "============================================================\n",
      "Total errors: 42691\n",
      "\n",
      "Most Frequent Over-Segmentation Errors (System split where it shouldn't):\n",
      "\n",
      "Most Frequent Under-Segmentation Errors (System joined what should be separate):\n",
      "\n",
      "Most Frequent Complex Boundary Errors:\n",
      "  163 × REF: 'ပါ' → HYP: 'တယ်'\n",
      "  100 × REF: 'ဖြစ်' → HYP: 'သည်'\n",
      "   83 × REF: 'ခဲ့' → HYP: 'သည်'\n",
      "   69 × REF: 'ကြ' → HYP: 'သည်'\n",
      "   60 × REF: 'ခဲ့' → HYP: 'တယ်'\n",
      "   58 × REF: 'ပေး' → HYP: 'ပါ'\n",
      "   58 × REF: 'များ' → HYP: 'ကို'\n",
      "   52 × REF: 'ချင်' → HYP: 'ပါ'\n",
      "   52 × REF: 'မ' → HYP: 'ရှိ'\n",
      "   52 × REF: 'သည်' → HYP: 'ခဲ့'\n",
      "   49 × REF: 'ချင်' → HYP: 'တယ်'\n",
      "   47 × REF: 'နေ' → HYP: 'တယ်'\n",
      "   44 × REF: 'နိုင်' → HYP: 'မလား'\n",
      "   43 × REF: 'ပေါ်' → HYP: 'ပေါ်မှာ'\n",
      "   43 × REF: 'လို့' → HYP: 'ရ'\n",
      "   42 × REF: 'ပါ' → HYP: 'ဘူး'\n",
      "   41 × REF: 'တယ်' → HYP: 'ပါ'\n",
      "   37 × REF: 'ရှိ' → HYP: 'သည်'\n",
      "   36 × REF: 'လေ' → HYP: 'သည်'\n",
      "   36 × REF: 'တစ်' → HYP: 'ခု'\n"
     ]
    }
   ],
   "source": [
    "!python ./tools/eval_segmentation.py -r ./data/10k_test.txt -H ./exp_2/big_rules_bimmfallback_bimmboost150_ctest.seg --top-k 20"
   ]
  },
  {
   "cell_type": "markdown",
   "id": "79612de8-d5d5-4502-b14c-952d6a21b399",
   "metadata": {},
   "source": [
    "## Analysis"
   ]
  },
  {
   "cell_type": "markdown",
   "id": "b116a3ba-ac32-4ea4-9411-f38322544832",
   "metadata": {},
   "source": [
    "## Word Metrics \n",
    "\n",
    "| Experiment                          | Precision | Recall  | F1-score |\n",
    "|-------------------------------------|-----------|---------|----------|\n",
    "| Dictionary-1 (Open-test)            | 0.8857    | 0.8454  | 0.8651   |\n",
    "| Dictionary-1+Post Rules (Open-test) | 0.9094| 0.8893| 0.8992|\n",
    "| Dictionary-1 (Closed-test)          | 0.8795    | 0.8378  | 0.8582   |\n",
    "| Dictionary-1+Post Rules (Closed-test)| 0.9034    | 0.8807  | 0.8919   |\n",
    "\n",
    "\n"
   ]
  },
  {
   "cell_type": "markdown",
   "id": "955977f7-33e2-4cbe-88ad-698498cd7fb2",
   "metadata": {},
   "source": [
    "## Boundary Metrics\n",
    "\n",
    "| Experiment                          | Precision | Recall  | F1-score |\n",
    "|-------------------------------------|-----------|---------|----------|\n",
    "| Dictionary-1 (Open-test)            | 0.5516    | 0.5265  | 0.5387   |\n",
    "| Dictionary-1+Post Rules (Open-test) | 0.6116    | 0.5981  | 0.6048   |\n",
    "| Dictionary-1 (Closed-test)          | 0.5635    | 0.5368  | 0.5498   |\n",
    "| Dictionary-1+Post Rules (Closed-test)| 0.6263| 0.6106| 0.6184|"
   ]
  },
  {
   "cell_type": "markdown",
   "id": "87f53fd8-3810-4294-8813-8211c418ad06",
   "metadata": {},
   "source": [
    "## Vocabulary Metrics\n",
    "\n",
    "| Experiment                          | Precision | Recall  | F1-score |\n",
    "|-------------------------------------|-----------|---------|----------|\n",
    "| Dictionary-1 (Open-test)            | 0.8139    | 0.9184  | 0.8630   |\n",
    "| Dictionary-1+Post Rules (Open-test) | 0.8183    | 0.9158  | 0.8643   |\n",
    "| Dictionary-1 (Closed-test)          | 0.8242| 0.9228| 0.8707|\n",
    "| Dictionary-1+Post Rules (Closed-test)| 0.8245    | 0.9208  | 0.8700   |"
   ]
  },
  {
   "cell_type": "markdown",
   "id": "c5806015-dd1a-4c87-815c-ad4f62e7c42f",
   "metadata": {},
   "source": [
    "## for Bigger Dictionary\n",
    "\n",
    "## Word Metrics\n",
    "\n",
    "| Experiment                          | Precision | Recall  | F1-score |\n",
    "|-------------------------------------|-----------|---------|----------|\n",
    "| Big Dictionary (Open-test)          | 0.8813    | 0.8388  | 0.8595   |\n",
    "| Big Dictionary+Post Rules (Open-test)| 0.9055    | 0.8829  | 0.8941   |\n",
    "| Big Dictionary (Closed-test)        | 0.8753    | 0.8311  | 0.8526   |\n",
    "| Big Dictionary+Post Rules (Closed-test)| 0.8993    | 0.8739  | 0.8864   |"
   ]
  },
  {
   "cell_type": "markdown",
   "id": "8864ceb2-a5a2-45f3-aef3-b932e54e445c",
   "metadata": {},
   "source": [
    "## Boundary Metrics\n",
    "\n",
    "| Experiment                          | Precision | Recall  | F1-score |\n",
    "|-------------------------------------|-----------|---------|----------|\n",
    "| Big Dictionary (Open-test)          | 0.5349    | 0.5091  | 0.5216   |\n",
    "| Big Dictionary+Post Rules (Open-test)| 0.5991    | 0.5841  | 0.5915   |\n",
    "| Big Dictionary (Closed-test)        | 0.5545    | 0.5265  | 0.5401   |\n",
    "| Big Dictionary+Post Rules (Closed-test)| 0.6158    | 0.5984  | 0.6070   |"
   ]
  },
  {
   "cell_type": "markdown",
   "id": "cbfc1d78-84da-41c6-ac47-a54d0ada9617",
   "metadata": {},
   "source": [
    "## Vocabulary Metrics\n",
    "\n",
    "| Experiment                          | Precision | Recall  | F1-score |\n",
    "|-------------------------------------|-----------|---------|----------|\n",
    "| Big Dictionary (Open-test)          | 0.8036    | 0.9151  | 0.8557   |\n",
    "| Big Dictionary+Post Rules (Open-test)| 0.8078    | 0.9125  | 0.8570   |\n",
    "| Big Dictionary (Closed-test)        | 0.8097    | 0.9221  | 0.8623   |\n",
    "| Big Dictionary+Post Rules (Closed-test)| 0.8100    | 0.9202  | 0.8616   |"
   ]
  },
  {
   "cell_type": "markdown",
   "id": "89fc3bef-dc00-49e8-8c80-c316088d3688",
   "metadata": {},
   "source": [
    "## To Do\n",
    "\n",
    "- myNER ထဲက PER, LOC, ORG တွေကို ဆွဲထုတ်ပြီး dictionary မှာ ထပ်ဖြည့်ရန်\n",
    "- လူနာမည်၊ မြို့ရွာနာမည်၊ အဖွဲ့အစည်းနာမည်တွေပါတဲ့ ဒေတာကို ပြင်ဆင်ပြီး oppaWord ကို evaluation လုပ်ရန်။ အဲဒါဆိုရင် ရလဒ်က ပိုပြတ်ပြတ်သားသား မြင်ရမယ်လို့ မျှော်လင့်တယ်။  "
   ]
  },
  {
   "cell_type": "code",
   "execution_count": null,
   "id": "58bb8d5a-977c-41da-9f87-3ca7fda8d50e",
   "metadata": {},
   "outputs": [],
   "source": []
  }
 ],
 "metadata": {
  "kernelspec": {
   "display_name": "Python 3 (ipykernel)",
   "language": "python",
   "name": "python3"
  },
  "language_info": {
   "codemirror_mode": {
    "name": "ipython",
    "version": 3
   },
   "file_extension": ".py",
   "mimetype": "text/x-python",
   "name": "python",
   "nbconvert_exporter": "python",
   "pygments_lexer": "ipython3",
   "version": "3.12.3"
  }
 },
 "nbformat": 4,
 "nbformat_minor": 5
}
