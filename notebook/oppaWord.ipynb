{
 "cells": [
  {
   "cell_type": "markdown",
   "id": "e511a423-2e41-48a3-8759-18334af00b08",
   "metadata": {},
   "source": [
    "## oppaWord  \n",
    "\n",
    "oppaWord demo running or 1st formal experiment  \n",
    "by Ye Kyaw Thu, LU Lab., Myanmar  \n",
    "26 July 2025  "
   ]
  },
  {
   "cell_type": "code",
   "execution_count": 1,
   "id": "8ca7026a-08ac-4ca2-8089-189cfd38ad5e",
   "metadata": {},
   "outputs": [
    {
     "name": "stdout",
     "output_type": "stream",
     "text": [
      "/home/ye/exp/myTokenizer\n"
     ]
    }
   ],
   "source": [
    "!pwd"
   ]
  },
  {
   "cell_type": "code",
   "execution_count": 2,
   "id": "990cf14c-5cb6-46a9-a0c1-ed5537027f1a",
   "metadata": {},
   "outputs": [
    {
     "name": "stdout",
     "output_type": "stream",
     "text": [
      "/home/ye/exp/myTokenizer/oppaWord\n"
     ]
    }
   ],
   "source": [
    "cd oppaWord"
   ]
  },
  {
   "cell_type": "markdown",
   "id": "582b258f-b01d-4780-ad9f-045c9e4cc23e",
   "metadata": {},
   "source": [
    "လောလောဆယ် data ဆိုတဲ့ ဖိုလ်ဒါအောက်ထဲမှာပဲ dictionary, syllable frequency, language model ဖိုင်နဲ့ original corpus နဲ့ တခြား preprocessing လုပ်တုန်းက ဖိုင်တချို့ပါ သိမ်းထားတယ်။   "
   ]
  },
  {
   "cell_type": "code",
   "execution_count": 4,
   "id": "9548c775-67a3-4c8e-9f5a-515aa7dae5f9",
   "metadata": {},
   "outputs": [
    {
     "name": "stdout",
     "output_type": "stream",
     "text": [
      "\u001b[01;34m./data\u001b[0m\n",
      "├── 10k_test.input\n",
      "├── 10k_test.txt\n",
      "├── 10lines.ref\n",
      "├── myg2p_mypos.dict\n",
      "├── myMono_clean_syl.6gram.arpa\n",
      "├── myMono_clean_syl.6gram.probing.bin\n",
      "├── myMono_clean_syl.6gram.trie.bin\n",
      "├── myMono_clean_syl.arpa\n",
      "├── myMono_clean_syl.probing.bin\n",
      "├── myMono_clean_syl.trie.bin\n",
      "├── myMono.freq\n",
      "├── mypos-ver.3.0.shuf.notag.nopunc.txt.seg_normalized2\n",
      "├── otest.1k.word\n",
      "├── otest.1k.word.input\n",
      "├── \u001b[01;34mprepare_raw\u001b[0m\n",
      "│   ├── note.txt\n",
      "│   ├── raw2.txt\n",
      "│   ├── raw3.txt\n",
      "│   ├── raw4.txt\n",
      "│   ├── raw.txt\n",
      "│   └── smart_space_remover.py\n",
      "├── raw.txt\n",
      "└── rules.txt\n",
      "\n",
      "2 directories, 22 files\n"
     ]
    }
   ],
   "source": [
    "!tree ./data"
   ]
  },
  {
   "cell_type": "markdown",
   "id": "ba37c259-f77d-41e9-ad83-023f62b5b72e",
   "metadata": {},
   "source": [
    "oppaWord ရဲ့ feature အပြည့်နဲ့ word segmentation experiment လုပ်ချင်ရင် တကယ်တမ်း လိုအပ်တာက အောက်ပါ လေးဖိုင်ပါ။  \n",
    "1. myg2p_mypos.dict (dictionary file)\n",
    "2. myMono.freq (syllable frequency file)\n",
    "3. Language model file\n",
    "4. rules.txt (wrong|||correct ဆိုတဲ့ ပုံစံနဲ့ ပြင်ဖို့လိုအပ်တဲ့ utf-8 plain text ဖိုင်ပါ)  \n",
    "\n",
    "## Language Model (LM) File\n",
    "\n",
    "လောလောဆယ် oppaWord development လုပ်ရင်းနဲ့ 5-gram, 6-gram syllable LM တွေကို ပြင်ပြီး စမ်းကြည့်ခဲ့တယ်။  \n",
    "\n",
    "1. myMono_clean_syl.arpa (5-gram syllable LM, ARPA format)\n",
    "2. myMono_clean_syl.probing.bin (5-gram syllable LM, probing binary format)\n",
    "3. myMono_clean_syl.trie.bin (5-gram syllable LM, trie binary format)\n",
    "\n",
    "## prepare_raw Folder\n",
    "\n",
    "ဒီ folder အောက်မှာ ရှိတဲ့ ဖိုင်တွေက smart_space_remover.py code ကို ရေးရင်းနဲ့ စမ်းကြည့်ထားတဲ့ ဖိုလ်ဒါပါ။ oppaWord ကို public release လုပ်တဲ့အခါမှာ ပါချင်မှ ပါလိမ့်မယ်။  \n",
    "\n",
    "## Closed-Test Data  \n",
    "\n",
    "1. 10k_test.txt (ရှေ့က baselines.ipynb မှာတုန်းက ပြင်ဆင်ခဲ့တဲ့ closed-test data ပါ)\n",
    "2. 10k_test.input (oppa_word.py ကို input လုပ်တဲ့အခါမှာ space တွေကို ဖြုတ်ထားရတာမို့ အဲဒီအတွက် ပြင်ဆင်ထားတဲ့ ဖိုင်ပါ)\n",
    "\n",
    "## Open-Test Data  \n",
    "\n",
    "1. otest.1k.word (myPOS ကနေပဲ ယူလာတဲ့ open-test data ပါ။ POS Tag တွေက ဖြုတ်ထားပြီးသားပါ။)\n",
    "2. otest.1k.word.input (otest.1k.word ဖိုင်ကိုပဲ oppa_word.py နဲ့ run ဖို့အတွက် space တွေဖြုတ်ထားတဲ့ ဖိုင်ပါ)\n",
    "\n",
    "ဒီ experiment အတွက် အဓိက လိုအပ်တဲ့ resource file တွေက ဒါအကုန်ပါပဲ။  \n"
   ]
  },
  {
   "cell_type": "markdown",
   "id": "4b3400ce-9042-41f8-bd05-656c17b57520",
   "metadata": {},
   "source": [
    "## File Formats\n",
    "\n",
    "Binary ဖိုင်မဟုတ်တဲ့ plain text ဖိုင်တွေရဲ့ format တွေကိုလည်း လေ့လာလို့ ရအောင် ရိုက်ထုတ်ပြပါမယ်။  \n",
    "\n",
    "### Dictionary File"
   ]
  },
  {
   "cell_type": "code",
   "execution_count": 5,
   "id": "c8e3680a-8cee-45bc-923c-a4350240ba77",
   "metadata": {},
   "outputs": [
    {
     "name": "stdout",
     "output_type": "stream",
     "text": [
      "က\n",
      "ကံ\n",
      "ကကတစ်\n",
      "ကကတိုး\n",
      "ကံကျွေး\n",
      "ကံကျွေးချစနစ်\n",
      "ကံကြမ္မာ\n",
      "ကကြိုး\n",
      "ကကြိုးတန်ဆာ\n",
      "ကကြီး\n"
     ]
    }
   ],
   "source": [
    "!head ./data/myg2p_mypos.dict"
   ]
  },
  {
   "cell_type": "code",
   "execution_count": 7,
   "id": "d794db1a-b5ce-4a89-8aea-b7986bbd7a1e",
   "metadata": {},
   "outputs": [
    {
     "name": "stdout",
     "output_type": "stream",
     "text": [
      "ဩဘာပေး\n",
      "ဩရသ\n",
      "ဩဝါဒ\n",
      "ဩဝါဒခံ\n",
      "ဩဝါဒါစရိယ\n",
      "ဩသဓ\n",
      "ဩအည်းလိုက်\n",
      "ဪလဲ\n",
      "၊\n",
      "။\n"
     ]
    }
   ],
   "source": [
    "!tail ./data/myg2p_mypos.dict"
   ]
  },
  {
   "cell_type": "markdown",
   "id": "97a96a81-7169-45ee-9f05-84826e064043",
   "metadata": {},
   "source": [
    "Dictionary ဖိုင်ထဲမှာ ပုဒ်ထီး၊ ပုဒ်မ ကိုလည်း စာလုံးတစ်လုံးအနေနဲ့ သတ်မှတ်ပြီး ထည့်ထားတာကို တွေ့ရပါလိမ့်မယ်။  "
   ]
  },
  {
   "cell_type": "markdown",
   "id": "983d491a-33c3-46a3-9b9b-00571270d6b1",
   "metadata": {},
   "source": [
    "### Syllable Frequency File\n",
    "\n",
    "ဒီ frequency file က ကျွန်တော်တို့ release လုပ်ဖို့ ပြင်ဆင်နေဆဲဖြစ်တဲ့ Monolingual corpus ကို သုံးပြီး ဆွဲထုတ်ထားတဲ့ frequency file ပါ။ စာကြောင်းရေ တစ်သန်းလေးသောင်းကျော်ကနေ ဆွဲထုတ်ယူထားတာ ဖြစ်ပါတယ်။  "
   ]
  },
  {
   "cell_type": "code",
   "execution_count": 8,
   "id": "489be73e-4ac3-4b9b-a0d5-80228212fc9d",
   "metadata": {},
   "outputs": [
    {
     "name": "stdout",
     "output_type": "stream",
     "text": [
      "2097691\tအ\n",
      "1104050\tသည်\n",
      "796400\tကို\n",
      "688344\tမ\n",
      "657077\tပါ\n",
      "613841\tက\n",
      "536481\tဖြစ်\n",
      "517064\tများ\n",
      "478096\tရ\n",
      "426865\tနေ\n"
     ]
    }
   ],
   "source": [
    "!head ./data/myMono.freq"
   ]
  },
  {
   "cell_type": "code",
   "execution_count": 10,
   "id": "1afb221b-076c-4c56-a31a-a06fa7b86fb1",
   "metadata": {},
   "outputs": [
    {
     "name": "stdout",
     "output_type": "stream",
     "text": [
      " 21845  43692 412595 ./data/myMono.freq\n"
     ]
    }
   ],
   "source": [
    "!wc ./data/myMono.freq"
   ]
  },
  {
   "cell_type": "markdown",
   "id": "96f8a20c-e3d7-434e-8d97-9ddf211f72ae",
   "metadata": {},
   "source": [
    "### Language Model File\n",
    "\n",
    "Language Model ဖိုင်တွေက ARPA format အနေနဲ့ သိမ်းထားတာရယ်၊ binary file အနေနဲ့ သိမ်းထားတာရယ်ဆိုပြီး ရှိလိမ့်မယ်။ Binary file ကိုမှာ probing model နဲ့ trie model ဆိုပြီး နှစ်မျိုးသိမ်းလို့ ရပါတယ်။ Probing model က linear probing hash table ကို သုံးပြီးတော့ probing LM က trie lM ထက် စာရင် 81% ပိုမြန်ပါတယ်။ ဒါပေမဲ့ memory ကိုပိုသုံးလိမ့်မယ်။ Trie နဲ့ သိမ်းထားတဲ့ LM ကတော့ bit level packing လုပ်ထားတဲ့ trie structure ပါ။ အဲဒါကြောင့် သူက probing ထက်စာရင် memory သုံးတာ သက်သာပါလိမ့်မယ်။ သို့သော်လည်း n-gram ဒေတာတွေကို ရှာဖွေတဲ့အခါမှာတော့ probing ထက် နှေးပါလိမ့်မယ်။ အသေးစိတ် သိချင်တဲ့ သူတွေက [KenLM paper](https://kheafield.com/papers/avenue/kenlm.pdf) ကို ဖတ်ကြည့်ပါ။   "
   ]
  },
  {
   "cell_type": "code",
   "execution_count": 11,
   "id": "64dc3a94-c1d7-4015-bb67-9bbbfa3f46d9",
   "metadata": {},
   "outputs": [
    {
     "name": "stdout",
     "output_type": "stream",
     "text": [
      "\\data\\\n",
      "ngram 1=21849\n",
      "ngram 2=890674\n",
      "ngram 3=6273833\n",
      "ngram 4=14881991\n",
      "ngram 5=22249448\n",
      "\n",
      "\\1-grams:\n",
      "-5.9508724\t<unk>\t0\n",
      "0\t<s>\t-2.3404233\n",
      "-2.5402012\t</s>\t0\n",
      "-2.969469\tလေ့\t-1.0170939\n",
      "-3.2468214\tကျင့်\t-0.7553899\n",
      "-3.1590524\tခန်း\t-0.76661134\n",
      "-2.8109293\tလုပ်\t-1.2248719\n",
      "-2.7846105\tခြင်း\t-1.2950884\n",
      "-2.273433\tအ\t-1.630708\n",
      "-2.7302542\tလေး\t-1.122314\n",
      "-2.474841\tမ\t-1.388715\n",
      "-2.7878892\tဟာ\t-1.0509427\n",
      "-3.393969\tယောက်ျား\t-0.82077605\n",
      "-3.1278503\tပီ\t-0.70778507\n",
      "-2.5439384\tသ\t-1.138216\n",
      "-2.798183\tစေ\t-1.0846236\n",
      "-2.9547236\tဖို့\t-1.0897424\n",
      "-2.6649404\tနဲ့\t-1.278924\n",
      "-2.8685365\tကိုယ်\t-1.0504222\n",
      "-3.3625221\tခန္ဓာ\t-0.7001066\n",
      "-3.622274\tတောင့်\t-0.6469929\n",
      "-3.238298\tတင်း\t-0.61249375\n"
     ]
    }
   ],
   "source": [
    "!head -n 30 ./data/myMono_clean_syl.arpa"
   ]
  },
  {
   "cell_type": "markdown",
   "id": "7d5a44ab-91c4-4bf6-ba56-a59326fbf2cc",
   "metadata": {},
   "source": [
    "အထက်ပါ မြင်ရတဲ့အတိုင်း ARPA format မှာက header ပိုင်းပါလိမ့်မယ်။ အဲဒီကနေ ဘယ်လောက် gram LM လဲ ဆိုတာကို သိရလိမ့်မယ်။ ပြီးတော့ Unigram ကနေ ဆောက်ထားတဲ့ ngram အထိ syllable အတွဲတွေရဲ့ information ကို လေ့လာနိုင်တယ်။   \n",
    "\n",
    "syllable တစ်လုံး သို့မဟုတ် syllable အတွဲတွေရဲ့ information ကိုတော့ အောက်ပါ format နဲ့ သိမ်းထားပါတယ်။  \n",
    "\n",
    "`log10_probability    word    backoff_weight`  \n"
   ]
  },
  {
   "cell_type": "markdown",
   "id": "02d05d9f-761d-47cb-a1f2-a5f77400c8be",
   "metadata": {},
   "source": [
    "### Rules File\n",
    "\n",
    "Rule ဖိုင်ကတော့ oppa_word ကနေ segmentation ဖြတ်ပြီးထွက်လာတဲ့ အမှားတွေကို ကြည့်ပြီး rule ထုတ်ပြီးတော့ ပြင်ချင်တဲ့အခါမှာ သုံးတဲ့ ဖိုင်ပါ။ ဥပမာအနေနဲ့ ဆောက်ပြီးတော့ သုံးပြထားတာပါ။ ကိုယ် word segmentation လုပ်ချင်တဲ့ ဒိုမိန်း အကုန်ကို oppaWord က မှန်မှန်ကန်ကန် ဖြတ်ပေးနိုင်မှာ မဟုတ်ပါဘူး။ ဥပမာ ဆေးပညာဒိုမိန်း၊ ရူပဗေဒဒိုမိန်း မှာ ပါတဲ့ စာလုံးမျိုးတွေပါ။ အဲဒီလို ဒိုမိန်းအတွက် စာလုံးဖြတ်တာကို မှန်ကန်ဖို့အတွက် ဆိုရင် oppaWord ကို တစ်ခေါက် run ကြည့်လိုက်ပြီး မှားဖြတ်ထားတဲ့ စာလုံးတွေကို ပြင်ချင်ရင် rule ဖိုင်ပြင်ပြီး အလွယ်တကူ ပြင်ဆင်လို့ ရပါတယ်။  "
   ]
  },
  {
   "cell_type": "code",
   "execution_count": 12,
   "id": "d05955c0-4e93-49bc-94af-46b796a3bd7b",
   "metadata": {},
   "outputs": [
    {
     "name": "stdout",
     "output_type": "stream",
     "text": [
      "ပါတယ်|||ပါ တယ်\n",
      "မရှိ|||မ ရှိ\n",
      "ဒီနေ့|||ဒီ နေ့\n",
      "ဖြစ်သည်|||ဖြစ် သည်\n",
      "ခဲ့သည်|||ခဲ့ သည်\n",
      "သူက|||သူ က\n",
      "မဟုတ်|||မ ဟုတ်\n",
      "များကို|||များ ကို\n",
      "ပါဘူး|||ပါ ဘူး\n",
      "ကတော့|||က တော့\n",
      "ရှိတယ်|||ရှိ တယ်\n",
      "ချင်ပါ|||ချင် ပါ\n",
      "ချင်တယ်|||ချင် တယ်\n",
      "မြန်မာနိုင်ငံ|||မြန်မာ နိုင်ငံ\n",
      "တို့၏|||တို့ ၏\n",
      "ပါသလဲ|||ပါ သလဲ\n",
      "မှာရှိ|||မှာ ရှိ\n",
      "များ၏|||များ ၏\n",
      "ထင်တယ်|||ထင် တယ်\n",
      "မှာထား|||မှာ ထား\n",
      "စီးပွားရေး|||စီးပွား ရေး\n",
      "အလုပ်လုပ်|||အလုပ် လုပ်\n",
      "တာနဲ့|||တာ နဲ့\n",
      "လိုက်ပါ|||လိုက် ပါ\n",
      "ဒီဟာ|||ဒီ ဟာ\n",
      "သူများ|||သူ များ\n",
      "သူ၏|||သူ ၏\n",
      "ဟုတ်လား|||ဟုတ် လား\n",
      "တစ်ဦး|||တစ် ဦး\n",
      "နံ ပါတ်|||နံပါတ်\n",
      "(\\S)([၊။])|||\\1 \\2\n"
     ]
    }
   ],
   "source": [
    "!cat ./data/rules.txt"
   ]
  },
  {
   "cell_type": "markdown",
   "id": "bcb6843e-f0bf-487b-b55f-6e267319ba0b",
   "metadata": {},
   "source": [
    "Rule file format က `wrong|||correct` ဆိုတဲ့ format ပါ။  \n",
    "Rule ဖိုင်ထဲမှာ အထက်မှာ ဥပမာအနေနဲ့ ပြထားတဲ့အတိုင်း Regular Expression (RE) တွေကိုလည်း ထည့်သုံးလို့ ရအောင် oppaWord က support ပေးထားပါတယ်။ :)  \n",
    "\n",
    "`(\\S)([၊။])|||\\1 \\2` RE ကတော့ ပုဒ်ထီး၊ ပုဒ်မ သင်္ကေတတွေနဲ့ စာလုံးက ပူးကပ်နေရင် space ခြားဖို့ ရေးထားတာပါ။  "
   ]
  },
  {
   "cell_type": "markdown",
   "id": "584312e8-5134-4232-9e3b-32fff63b1559",
   "metadata": {},
   "source": [
    "### Closed, Open Test Data Format\n",
    "\n",
    "Experiment တစ်ခု လုပ်ပြီဆိုရင် ထုံးစံအတိုင်း closed, open test data တွေကို ပြင်ဆင်ရပါတယ်။ Closed ကတော့ မော်ဒယ် ကို training လုပ်စဉ်က သုံးထားတဲ့ ဒေတာထဲကနေပဲ ဆွဲထုတ်ယူထားတဲ့ ဒေတာကို ပြောတာပါ။ Open test data ကတော့ မော်ဒယ် training လုပ်စဉ်မှာ မပါတဲ့ ဒေတာ၊ တနည်းအားဖြင့် မော်ဒယ်က မမြင်ဘူးသေးတဲ့ ဒေတာ အသစ်ပါ။ ကိုယ်ဆောက်ထားတဲ့ မော်ဒယ်က ဘယ်လောက်ထိ အလုပ်လုပ်ပေးနိုင်သလဲ ဆိုသာကို တိုင်းတာဖို့ အတွက်က closed ရော၊ open ရော နှစ်မျိုးစလုံးက အရေးကြီးပါတယ်။ အဲဒီနှစ်မျိုးထဲကမှ ပိုအရေးကြီးတာက ဘယ်ဟာလဲ ဆိုရင်တော့ open test data လို့ ဖြေရမှာပေါ့။   \n",
    "\n",
    "oppa_word က တကယ်တမ်းက LM ကလွဲရင် သပ်သပ်ကြီး training လုပ်ယူစရာ မလိုပါဘူး။ တကယ်ကို အဘိဓာန်ကို သုံး၊ syllable frequency နဲ့ LM ကို သုံးပြီး scoreing လုပ်ပြီး မြန်မြန်ဆန်ဆန် word segmentation လုပ်ပေးနိုင်အောင် ရေးထားတာပါ။ အဲဒါကြောင့် training လုပ်စဉ်က သုံးခဲ့တဲ့ ဒေတာလို့ တိုက်ရိုက်တော့ သုံးလို့ မရပါဘူး။ သို့သော်လည်း အဘိဓာန်ထဲမှာ myG2P အပြင် myPOS က စာလုံးတွေကိုပါ ဖြည့်ထားတာမို့ myPOS data တွေက ပါနေပါတယ်။ အဲဒါကြောင့် open test data ကို ပြင်တဲ့အခါမှာ myPOS ရဲ့ open test data ကိုပဲ ယူသုံးကြည့်ထားတာပါ။  \n",
    "\n",
    "သိကြတဲ့အတိုင်း မြန်မာစာအတွက်က manual word segmentation လုပ်ထားတဲ့ ဒေတာကလည်း ရှားတာမို့လို့...  "
   ]
  },
  {
   "cell_type": "code",
   "execution_count": 14,
   "id": "ad8be19e-f41d-49df-a80c-bf8a12732cf2",
   "metadata": {},
   "outputs": [
    {
     "name": "stdout",
     "output_type": "stream",
     "text": [
      "တစ် ကိုက် ကို ဝမ် ခုနှစ်ထောင် ပါ ။\n",
      "မနှစ် က သူ ကျွန်မ ကို သင် ပေး တယ် ။\n",
      "ကျွန်တော့် ခုံ သွား ရှာ မလို့ ။\n",
      "အတန်း စ တာ ကြာ ပြီ လား ။\n",
      "ဆေး နည်းနည်း စား လိုက် ၊ သုံး လေး ရက် လောက် အနားယူ လိုက် ရင် ပျောက် သွား မှာ ပါ ။\n",
      "အေးချမ်း မှု နဲ့ စည်းကမ်း ကို တည်မြဲ အောင် ထိန်းသိမ်း သည် ။\n",
      "ဇွန်း ကို လိုအပ် တယ် ။\n",
      "ဘွဲ့ ရ ရင် ဘာ လုပ် မ လို့ လဲ ။\n",
      "ကျွန်တော် ချောင်းဆိုး ခြင်း အတွက် တစ် ခု ခု လို ချင် တယ် ။\n",
      "အသီးအနှံ တို့ မှ လွဲ လျှင် လူ တို့ ၏ အဓိက အစားအစာ မှာ ငါး ဖြစ် သည် ။\n"
     ]
    }
   ],
   "source": [
    "!head ./data/otest.1k.word"
   ]
  },
  {
   "cell_type": "code",
   "execution_count": 15,
   "id": "34cc61d4-ebe4-4195-8a60-277ff0b408e2",
   "metadata": {},
   "outputs": [
    {
     "name": "stdout",
     "output_type": "stream",
     "text": [
      "တစ်ကိုက်ကိုဝမ်ခုနှစ်ထောင်ပါ။\n",
      "မနှစ်ကသူကျွန်မကိုသင်ပေးတယ်။\n",
      "ကျွန်တော့်ခုံသွားရှာမလို့။\n",
      "အတန်းစတာကြာပြီလား။\n",
      "ဆေးနည်းနည်းစားလိုက်၊သုံးလေးရက်လောက်အနားယူလိုက်ရင်ပျောက်သွားမှာပါ။\n",
      "အေးချမ်းမှုနဲ့စည်းကမ်းကိုတည်မြဲအောင်ထိန်းသိမ်းသည်။\n",
      "ဇွန်းကိုလိုအပ်တယ်။\n",
      "ဘွဲ့ရရင်ဘာလုပ်မလို့လဲ။\n",
      "ကျွန်တော်ချောင်းဆိုးခြင်းအတွက်တစ်ခုခုလိုချင်တယ်။\n",
      "အသီးအနှံတို့မှလွဲလျှင်လူတို့၏အဓိကအစားအစာမှာငါးဖြစ်သည်။\n"
     ]
    }
   ],
   "source": [
    "!head ./data/otest.1k.word.input"
   ]
  },
  {
   "cell_type": "code",
   "execution_count": 16,
   "id": "059d59b7-8c07-412b-ad4c-0000636462a8",
   "metadata": {},
   "outputs": [
    {
     "name": "stdout",
     "output_type": "stream",
     "text": [
      "အိုးခွက်ပန်းကန် တွေ သိပ် မ ရှိ လို့ ထမင်းဟင်း ချက် ရ တာ အဆင်မပြေ ဘူး ။\n",
      "စိတ်ဝင်စား ဖို့ ကောင်း တယ် ။\n",
      "ဒီ ဆေး ကို တဝက် စီ ခွဲ ပေး ပါ ။\n",
      "ရောင်း ကောင်း လား ။\n",
      "ဆရာ ဒီ သွား က ခဏခဏ နာ နေ တယ် ။\n",
      "အခု ဘာ လုပ် နေ လဲ ။\n",
      "ဇူလိုင် ၁၄ ရက် မှာ ဘန်ကောက် ကို သွား မယ့် US 123 မှာ ပါ ။ ဟုတ် လား ။\n",
      "ကား မှ ကားဘီး ကို ဖြုတ် လိုက် သည် ။\n",
      "ကျွန်တော် သိ ပါရစေ ။\n",
      "ဘူတာရုံ က အလွန်တရာ ပြည့်ကျပ် နေ သည် ။\n"
     ]
    }
   ],
   "source": [
    "!tail ./data/otest.1k.word"
   ]
  },
  {
   "cell_type": "code",
   "execution_count": 17,
   "id": "bb895642-4fb3-4686-86b7-e16312cd3b63",
   "metadata": {},
   "outputs": [
    {
     "name": "stdout",
     "output_type": "stream",
     "text": [
      "အိုးခွက်ပန်းကန်တွေသိပ်မရှိလို့ထမင်းဟင်းချက်ရတာအဆင်မပြေဘူး။\n",
      "စိတ်ဝင်စားဖို့ကောင်းတယ်။\n",
      "ဒီဆေးကိုတဝက်စီခွဲပေးပါ။\n",
      "ရောင်းကောင်းလား။\n",
      "ဆရာဒီသွားကခဏခဏနာနေတယ်။\n",
      "အခုဘာလုပ်နေလဲ။\n",
      "ဇူလိုင် ၁၄ ရက်မှာဘန်ကောက်ကိုသွားမယ့် US 123 မှာပါ။ဟုတ်လား။\n",
      "ကားမှကားဘီးကိုဖြုတ်လိုက်သည်။\n",
      "ကျွန်တော်သိပါရစေ။\n",
      "ဘူတာရုံကအလွန်တရာပြည့်ကျပ်နေသည်။\n"
     ]
    }
   ],
   "source": [
    "!tail ./data/otest.1k.word.input"
   ]
  },
  {
   "cell_type": "markdown",
   "id": "53448012-0f6a-4043-a7c2-04d66de8a1c9",
   "metadata": {},
   "source": [
    "oppa_word.py နဲ့ run ဖို့အတွက် input ဖိုင်ကိုတော့ smart_space_remover.py ကို သုံးထားပါတယ်။  "
   ]
  },
  {
   "cell_type": "markdown",
   "id": "9d807ddf-2925-42b8-93e0-e6cfdce68242",
   "metadata": {},
   "source": [
    "## smart_space_remover.py  \n",
    "\n",
    "```python\n",
    "#!/usr/bin/env python3\n",
    "# -*- coding: utf-8 -*-\n",
    "\n",
    "\"\"\"\n",
    "smart_space_remover.py: Remove spaces intelligently for Myanmar text segmentation.\n",
    "written by Ye Kyaw Thu, LU Lab., Myanmar.\n",
    "last update: 25 July 2025\n",
    "\n",
    "Modes:\n",
    "  - all     : Remove all spaces\n",
    "  - my      : Remove spaces only between Myanmar letters\n",
    "  - my_not_num  : Like 'my' but preserve spacing near Myanmar numbers\n",
    "\n",
    "Usage:\n",
    "  $ python smart_space_remover.py --mode my_not_num --input input.txt --output output.txt\n",
    "\"\"\"\n",
    "\n",
    "import sys\n",
    "import argparse\n",
    "import re\n",
    "\n",
    "# === Unicode Character Classes ===\n",
    "MYANMAR_LETTER = r'[\\u1000-\\u109F\\uAA60-\\uAA7F]'\n",
    "MYANMAR_DIGIT = r'[\\u1040-\\u1049]'\n",
    "\n",
    "# === Regex Patterns ===\n",
    "RE_MM_LETTER_SPACE = re.compile(rf'({MYANMAR_LETTER})\\s+({MYANMAR_LETTER})')\n",
    "\n",
    "# Match MyanmarDigit <space> MyanmarDigit\n",
    "RE_MM_DIGIT_DIGIT = re.compile(rf'({MYANMAR_DIGIT})\\s+({MYANMAR_DIGIT})')\n",
    "\n",
    "# Match MyanmarDigit <space> MyanmarLetter\n",
    "RE_MM_DIGIT_LETTER = re.compile(rf'({MYANMAR_DIGIT})\\s+({MYANMAR_LETTER})')\n",
    "\n",
    "# Match MyanmarLetter <space> MyanmarDigit\n",
    "RE_MM_LETTER_DIGIT = re.compile(rf'({MYANMAR_LETTER})\\s+({MYANMAR_DIGIT})')\n",
    "\n",
    "# Protect standalone Myanmar digit tokens and spacing\n",
    "PROTECT_SPACES = [\n",
    "    (RE_MM_DIGIT_DIGIT, r'\\1☃\\2'),           # protect digit-digit\n",
    "    (RE_MM_DIGIT_LETTER, r'\\1☃\\2'),          # protect digit-letter\n",
    "    (RE_MM_LETTER_DIGIT, r'\\1☃\\2'),          # protect letter-digit\n",
    "]\n",
    "\n",
    "def remove_all_spaces(text):\n",
    "    return text.replace(' ', '')\n",
    "\n",
    "def remove_myanmar_spaces(text, preserve_digits=False):\n",
    "    if preserve_digits:\n",
    "        # Step 1: Protect spaces between digits and letters\n",
    "        for pattern, replacement in PROTECT_SPACES:\n",
    "            text = pattern.sub(replacement, text)\n",
    "\n",
    "    # Step 2: Remove space between Myanmar letters\n",
    "    prev = None\n",
    "    while prev != text:\n",
    "        prev = text\n",
    "        text = RE_MM_LETTER_SPACE.sub(r'\\1\\2', text)\n",
    "\n",
    "    if preserve_digits:\n",
    "        # Step 3: Restore protected spaces\n",
    "        text = text.replace('☃', ' ')\n",
    "\n",
    "    return text\n",
    "\n",
    "def process_lines(lines, mode):\n",
    "    for line in lines:\n",
    "        line = line.rstrip('\\n')\n",
    "        if mode == 'all':\n",
    "            yield remove_all_spaces(line)\n",
    "        elif mode == 'my':\n",
    "            yield remove_myanmar_spaces(line, preserve_digits=False)\n",
    "        elif mode == 'my_not_num':\n",
    "            yield remove_myanmar_spaces(line, preserve_digits=True)\n",
    "        else:\n",
    "            raise ValueError(f\"Unknown mode: {mode}\")\n",
    "\n",
    "def main():\n",
    "    parser = argparse.ArgumentParser(description=\"Smart Myanmar space remover\")\n",
    "    parser.add_argument('--mode', choices=['all', 'my', 'my_not_num'], required=True,\n",
    "                        help=\"Mode: 'all', 'my', or 'my+num'\")\n",
    "    parser.add_argument('--input', type=str, help=\"Input file (default: stdin)\")\n",
    "    parser.add_argument('--output', type=str, help=\"Output file (default: stdout)\")\n",
    "    args = parser.parse_args()\n",
    "\n",
    "    input_stream = open(args.input, 'r', encoding='utf-8') if args.input else sys.stdin\n",
    "    output_stream = open(args.output, 'w', encoding='utf-8') if args.output else sys.stdout\n",
    "\n",
    "    try:\n",
    "        for processed in process_lines(input_stream, args.mode):\n",
    "            output_stream.write(processed + '\\n')\n",
    "    finally:\n",
    "        if args.input:\n",
    "            input_stream.close()\n",
    "        if args.output:\n",
    "            output_stream.close()\n",
    "\n",
    "if __name__ == '__main__':\n",
    "    main()\n",
    "```"
   ]
  },
  {
   "cell_type": "markdown",
   "id": "1d1dbe09-8527-4d3a-a67e-2ef6503087c8",
   "metadata": {},
   "source": [
    "## --help of oppaWord\n",
    "\n",
    "oppaWord ကို မြန်မာစာလုံးတွေကို မှန်မှန်ကန်ကန် ဖြတ်ပေးနိုင်ဖို့ ဘယ်လို ဒီဇိုင်းလုပ်ထားခဲ့တယ် ဆိုတာကို သပ်သပ် slide နဲ့ပဲ ရှင်းပါမယ်။ ဒီ Notebook မှာတော့ လက်တွေ့ သုံးပုံသုံးနည်းကိုလည်း ပြရင်းနဲ့ closed-test, open-test ဒေတာတွေကို သုံးပြီး formal evaluation လုပ်တာကိုပဲ အာရုံစိုက်ကြရအောင်။  \n",
    "\n",
    "oppa_word.py code မှာ support လုပ်ပေးထားတဲ့ command line argument တွေကို ကြည့်ချင်ရင် --help နဲ့ ခေါ်ကြည့်ပါ။  \n"
   ]
  },
  {
   "cell_type": "code",
   "execution_count": 21,
   "id": "5c2d7ca7-1dee-49cc-9e1c-3cb71258da56",
   "metadata": {},
   "outputs": [
    {
     "name": "stdout",
     "output_type": "stream",
     "text": [
      "usage: oppa_word.py [-h] --input INPUT [--output OUTPUT] --dict DICT\n",
      "                    [--sylfreq SYLFREQ] [--arpa ARPA]\n",
      "                    [--postrule-file POSTRULE_FILE] [--max-order MAX_ORDER]\n",
      "                    [--dict-weight DICT_WEIGHT] [--use-bimm-fallback]\n",
      "                    [--bimm-boost BIMM_BOOST] [--visualize-dag]\n",
      "                    [--dag-output-dir DAG_OUTPUT_DIR]\n",
      "                    [--space-remove-mode {all,my,my_not_num}]\n",
      "                    [--max-word-len MAX_WORD_LEN]\n",
      "\n",
      "oppa_word, Hybrid DAG + BiMM + LM Myanmar Word Segmenter with optional Aho-\n",
      "Corasick support\n",
      "\n",
      "options:\n",
      "  -h, --help            show this help message and exit\n",
      "  --input INPUT, -i INPUT\n",
      "                        Input file with one sentence per line (UTF-8)\n",
      "  --output OUTPUT, -o OUTPUT\n",
      "                        Optional output file path (default: stdout)\n",
      "  --dict DICT, -d DICT  Word dictionary file (one word per line)\n",
      "  --sylfreq SYLFREQ, -s SYLFREQ\n",
      "                        Syllable frequency file (syllable<TAB>frequency, for\n",
      "                        scoring)\n",
      "  --arpa ARPA, -a ARPA  ARPA-format syllable-level language model (optional)\n",
      "  --postrule-file POSTRULE_FILE\n",
      "                        Optional post-processing rules (e.g., merging,\n",
      "                        corrections)\n",
      "  --max-order MAX_ORDER\n",
      "                        Max LM n-gram order (default: 5)\n",
      "  --dict-weight DICT_WEIGHT\n",
      "                        Dictionary path weight in scoring (default: 10.0)\n",
      "  --use-bimm-fallback   Enable Bi-directional Maximum Matching as fallback\n",
      "  --bimm-boost BIMM_BOOST\n",
      "                        Boost score added to Bi-MM fallback path (default:\n",
      "                        0.0)\n",
      "  --visualize-dag       Generate DAG visualization (PDF per sentence)\n",
      "  --dag-output-dir DAG_OUTPUT_DIR\n",
      "                        Directory to save DAG PDFs if --visualize-dag is used\n",
      "                        (default: 'dag_viz')\n",
      "  --space-remove-mode {all,my,my_not_num}\n",
      "                        Preprocessing mode to remove spaces: 'all', 'my'\n",
      "                        (Myanmar only), or 'my_not_num (Myanmar but not\n",
      "                        including Myanmar numbers'\n",
      "  --max-word-len MAX_WORD_LEN\n",
      "                        Maximum word length in syllables (3-12, default:6)\n"
     ]
    }
   ],
   "source": [
    "!python oppa_word.py --help"
   ]
  },
  {
   "cell_type": "markdown",
   "id": "8b22d485-4def-47c1-865d-c4d6b511b5f6",
   "metadata": {},
   "source": [
    "## 1.dict_sylfreq (closed-test)  \n",
    "\n",
    "Dictionary ရယ် syllable frequency ရယ် နှစ်မျိုးကို သုံးပြီး word segmentation လုပ်မယ်။  "
   ]
  },
  {
   "cell_type": "code",
   "execution_count": 26,
   "id": "9c3d49bc-cd4f-440b-917b-c43cc8bdb74d",
   "metadata": {},
   "outputs": [],
   "source": [
    "!mkdir exp_1"
   ]
  },
  {
   "cell_type": "code",
   "execution_count": 27,
   "id": "02490010-1f8d-42ef-9f14-1f344778c402",
   "metadata": {},
   "outputs": [
    {
     "name": "stdout",
     "output_type": "stream",
     "text": [
      "\n",
      "real\t0m0.758s\n",
      "user\t0m0.745s\n",
      "sys\t0m0.013s\n"
     ]
    }
   ],
   "source": [
    "!time python oppa_word.py \\\n",
    "  --input \"./data/10k_test.txt\" \\\n",
    "  --output \"exp_1/dict_sylfreq.seg\" \\\n",
    "  --postrule-file \"./data/rules.txt\" \\\n",
    "  --space-remove-mode \"my_not_num\" \\\n",
    "  --dict \"./data/myg2p_mypos.dict\" \\\n",
    "  --sylfreq \"./data/myMono.freq\""
   ]
  },
  {
   "cell_type": "markdown",
   "id": "95782c8a-7104-4050-bbdd-b1d44972293c",
   "metadata": {},
   "source": [
    "အထက်မှာ မြင်ရတဲ့အတိုင်း စာကြောင်းရေ တစ်သောင်းကို word segmentation ဖြတ်တာ real က 0.758 seconds မို့လို့ ၁ စက္ကန့်တောင် မကြာလိုက်ပါဘူး။ Super fast word segmenter ပါ။   "
   ]
  },
  {
   "cell_type": "code",
   "execution_count": 28,
   "id": "14937e39-e0bf-4443-919c-41cc46d7b23f",
   "metadata": {},
   "outputs": [
    {
     "name": "stdout",
     "output_type": "stream",
     "text": [
      "၁၉၆၂ ခု နှစ် ခန့် မှန်း သန်း ခေါင် စာ ရင်း အ ရ လူဦး ရေ ၁၁၅၉၃၁ ယောက် ရှိ သည်\n",
      "လူ တိုင်း တွင် သင့် မြတ် လျော် ကန် စွာ ကန့် သတ် ထား သည့် အ လုပ် လုပ် ချိန် အ ပြင် လ စာ နှင့် တ ကွ အ ခါ ကာ လ အား လျော် စွာ သတ် မှတ် ထား သည့် အ လုပ် အား လပ် ရက် များ ပါ ဝင် သည့် အ နား ယူ ခွင့် နှင့် အား လပ် ခွင့် ခံ စား ပိုင် ခွင့် ရှိ သည်\n",
      "ဤ နည်း ကို စစ် ယူ သော နည်း ဟု ခေါ် သည်\n",
      "စာ ပြန် ပွဲ ဆို တာ က အာ ဂုံ ဆောင် အ လွတ် ကျက် ထား တဲ့ ပိ ဋ ကတ် သုံး ပုံ စာ ပေ တွေ ကို စာ စစ် သံ ဃာ တော် ကြီး တွေ ရဲ့ ရှေ့ မှာ အ လွတ် ပြန် ပြီး ရွတ် ပြ ရ တာ ပေါ့\n",
      "ဒီ မှာ ကျွန် တော့် သက် သေ ခံ ကတ် ပါ\n",
      "၂ ဝ ရာ စု မြန် မာ့ သ မိုင်း သန်း ဝင်း လှိုင် ၂ ဝ ဝ၉ ခု မေ လ ကံ ကော် ဝတ် ရည် စာ ပေ\n",
      "ကျွန် တော် မျက် မှန် တစ် လက် လုပ် ချင် ပါ တယ်\n",
      "ကျွန် တော် တို့ က ဒီ အ မှု ရဲ့ ကြံ ရာ ပါ ကို ဖမ်း မိ ဖို့ ကြိုး စား ခဲ့ တယ်\n",
      "က လေး မီး ဖွား ဖို့ ခ န့် မှန်း ရက် က ဘယ် တော့ ပါ လဲ\n",
      "အ ရိုး ရှင်း ဆုံး ကာ ဗို ဟိုက် ဒ ရိတ် မှာ ဂ လူး ကို့စ် ဂ လက် တို့စ် ဖ ရပ် တို့စ် စ သည့် မို နို ဆက် က ရိုက် များ ဖြစ် သည်\n"
     ]
    }
   ],
   "source": [
    "!head ./exp_1/dict_sylfreq.seg"
   ]
  },
  {
   "cell_type": "markdown",
   "id": "80308f88-3410-4b55-a60f-1a2acfb2f96f",
   "metadata": {},
   "source": [
    "## Evaluation for dict_sylfreq (closed-test)  \n",
    "\n",
    "ဒီတစ်ခေါက် oppa_word.py ကို develop လုပ်ရင်းနဲ့ word segmentation အတွက် evaluation ကိုလည်း အသေးစိတ် analysis လုပ်ချင်လို့ eval_segmentation.py ကိုပါ ရေးဖြစ်ခဲ့ပါတယ်။ အဲဒီ ပရိုဂရမ်ထဲမှာပါတဲ့ evaluation လုပ်တဲ့အပိုင်းကိုလည်း သပ်သပ် slide ပြင်ပြီး ရှင်းပါမယ်။  "
   ]
  },
  {
   "cell_type": "code",
   "execution_count": 29,
   "id": "b3a4e326-4393-4e12-b906-5d2a6cfccc04",
   "metadata": {},
   "outputs": [
    {
     "name": "stdout",
     "output_type": "stream",
     "text": [
      "usage: eval_segmentation.py [-h] -r REFERENCE [-H HYPOTHESIS] [--top-k TOP_K]\n",
      "                            [--no-errors]\n",
      "\n",
      "Enhanced Word Segmentation Evaluator with Error Analysis\n",
      "\n",
      "options:\n",
      "  -h, --help            show this help message and exit\n",
      "  -r REFERENCE, --reference REFERENCE\n",
      "                        Reference (gold standard) file (default: None)\n",
      "  -H HYPOTHESIS, --hypothesis HYPOTHESIS\n",
      "                        Hypothesis (system output) file (use - for stdin)\n",
      "                        (default: -)\n",
      "  --top-k TOP_K         Show top K most frequent errors (default: 10)\n",
      "  --no-errors           Skip error analysis to save time (default: False)\n"
     ]
    }
   ],
   "source": [
    "!python ./tools/eval_segmentation.py --help"
   ]
  },
  {
   "cell_type": "code",
   "execution_count": 31,
   "id": "95d187d8-b59f-4da0-92ea-7e52775d6922",
   "metadata": {},
   "outputs": [
    {
     "name": "stdout",
     "output_type": "stream",
     "text": [
      "\n",
      "Word Segmentation Evaluation Results\n",
      "============================================================\n",
      "Metric                         Score\n",
      "------------------------------------------------------------\n",
      "Word Precision                0.3122\n",
      "Word Recall                   0.4516\n",
      "Word F1-score                 0.3692\n",
      "------------------------------------------------------------\n",
      "Boundary Precision            0.0805\n",
      "Boundary Recall               0.1165\n",
      "Boundary F1-score             0.0952\n",
      "------------------------------------------------------------\n",
      "Vocab Precision               0.5420\n",
      "Vocab Recall                  0.2012\n",
      "Vocab F1-score                0.2935\n",
      "============================================================\n",
      "\n",
      "Additional Statistics:\n",
      "Reference words: 117857\n",
      "Hypothesis words: 170501\n",
      "Correct words: 53230\n",
      "Reference vocabulary size: 10840\n",
      "Hypothesis vocabulary size: 4024\n",
      "Common vocabulary: 2181\n",
      "\n",
      "Top Segmentation Errors Analysis\n",
      "============================================================\n",
      "Total errors: 106473\n",
      "\n",
      "Most Frequent Over-Segmentation Errors (System split where it shouldn't):\n",
      "\n",
      "Most Frequent Under-Segmentation Errors (System joined what should be separate):\n",
      "\n",
      "Most Frequent Complex Boundary Errors:\n",
      "  592 × REF: 'ကျွန်တော်' → HYP: 'ကျွန်'\n",
      "  579 × REF: 'ခင်ဗျား' → HYP: 'ခင်'\n",
      "  198 × REF: 'သည်' → HYP: 'အ'\n",
      "  175 × REF: 'တို့' → HYP: 'တော်'\n",
      "  140 × REF: 'ကို' → HYP: 'အ'\n",
      "  134 × REF: 'အဲဒီ' → HYP: 'အဲ'\n",
      "  124 × REF: 'ကျွန်တော့်' → HYP: 'ကျွန်'\n",
      "  124 × REF: 'တယ်' → HYP: 'ပါ'\n",
      "  120 × REF: 'ပါ' → HYP: 'အ'\n",
      "  107 × REF: 'ဘူး' → HYP: 'မ'\n"
     ]
    }
   ],
   "source": [
    "!python ./tools/eval_segmentation.py -r ./data/10k_test.txt -H ./exp_1/dict_sylfreq.seg --top-k 10 "
   ]
  },
  {
   "cell_type": "markdown",
   "id": "e3d6fe33-1e3f-4959-87d4-deed65a8cb17",
   "metadata": {},
   "source": [
    "## 2.dict_sylfreq_bimmfallback (closed-test)\n",
    "\n",
    "ဒီတခါတော့ bimmfallback ကိုပါ သုံးပါမယ်။  "
   ]
  },
  {
   "cell_type": "code",
   "execution_count": 33,
   "id": "26d33bbb-73d8-4b02-a837-50d6f4cc0249",
   "metadata": {},
   "outputs": [
    {
     "name": "stdout",
     "output_type": "stream",
     "text": [
      "\n",
      "real\t0m1.075s\n",
      "user\t0m1.067s\n",
      "sys\t0m0.008s\n"
     ]
    }
   ],
   "source": [
    "!time python oppa_word.py \\\n",
    "  --input ./data/10k_test.txt \\\n",
    "  --output \"exp_1/dict_sylfreq_bimmfallback.seg\" \\\n",
    "  --postrule-file \"./data/rules.txt\" \\\n",
    "  --space-remove-mode \"my_not_num\" \\\n",
    "  --dict \"./data/myg2p_mypos.dict\" \\\n",
    "  --sylfreq \"./data/myMono.freq\" \\\n",
    "  --use-bimm-fallback"
   ]
  },
  {
   "cell_type": "code",
   "execution_count": 34,
   "id": "e4f318e2-4775-407c-92d1-aa2e83444e15",
   "metadata": {},
   "outputs": [
    {
     "name": "stdout",
     "output_type": "stream",
     "text": [
      "၁၉၆၂ ခု နှစ် ခန့် မှန်း သန်း ခေါင် စာ ရင်း အ ရ လူဦး ရေ ၁၁၅၉၃၁ ယောက် ရှိ သည်\n",
      "လူ တိုင်း တွင် သင့် မြတ် လျော် ကန် စွာ ကန့် သတ် ထား သည့် အ လုပ် လုပ် ချိန် အ ပြင် လ စာ နှင့် တ ကွ အ ခါ ကာ လ အား လျော် စွာ သတ် မှတ် ထား သည့် အ လုပ် အား လပ် ရက် များ ပါ ဝင် သည့် အ နား ယူ ခွင့် နှင့် အား လပ် ခွင့် ခံ စား ပိုင် ခွင့် ရှိ သည်\n",
      "ဤ နည်း ကို စစ် ယူ သော နည်း ဟု ခေါ် သည်\n",
      "စာ ပြန် ပွဲ ဆို တာ က အာ ဂုံ ဆောင် အ လွတ် ကျက် ထား တဲ့ ပိ ဋ ကတ် သုံး ပုံ စာ ပေ တွေ ကို စာ စစ် သံ ဃာ တော် ကြီး တွေ ရဲ့ ရှေ့ မှာ အ လွတ် ပြန် ပြီး ရွတ် ပြ ရ တာ ပေါ့\n",
      "ဒီ မှာ ကျွန် တော့် သက် သေ ခံ ကတ် ပါ\n",
      "၂ ဝ ရာ စု မြန် မာ့ သ မိုင်း သန်း ဝင်း လှိုင် ၂ ဝ ဝ၉ ခု မေ လ ကံ ကော် ဝတ် ရည် စာ ပေ\n",
      "ကျွန် တော် မျက် မှန် တစ် လက် လုပ် ချင် ပါ တယ်\n",
      "ကျွန် တော် တို့ က ဒီ အ မှု ရဲ့ ကြံ ရာ ပါ ကို ဖမ်း မိ ဖို့ ကြိုး စား ခဲ့ တယ်\n",
      "က လေး မီး ဖွား ဖို့ ခ န့် မှန်း ရက် က ဘယ် တော့ ပါ လဲ\n",
      "အ ရိုး ရှင်း ဆုံး ကာ ဗို ဟိုက် ဒ ရိတ် မှာ ဂ လူး ကို့စ် ဂ လက် တို့စ် ဖ ရပ် တို့စ် စ သည့် မို နို ဆက် က ရိုက် များ ဖြစ် သည်\n"
     ]
    }
   ],
   "source": [
    "!head ./exp_1/dict_sylfreq_bimmfallback.seg"
   ]
  },
  {
   "cell_type": "markdown",
   "id": "37fa1916-6281-472c-8906-5700e0bc5b62",
   "metadata": {},
   "source": [
    "## Evaluation for dict_sylfreq_bimmfallback (closed-test)"
   ]
  },
  {
   "cell_type": "code",
   "execution_count": 35,
   "id": "93a81e23-ea19-4458-9bab-507105aab35f",
   "metadata": {},
   "outputs": [
    {
     "name": "stdout",
     "output_type": "stream",
     "text": [
      "\n",
      "Word Segmentation Evaluation Results\n",
      "============================================================\n",
      "Metric                         Score\n",
      "------------------------------------------------------------\n",
      "Word Precision                0.3122\n",
      "Word Recall                   0.4516\n",
      "Word F1-score                 0.3692\n",
      "------------------------------------------------------------\n",
      "Boundary Precision            0.0805\n",
      "Boundary Recall               0.1165\n",
      "Boundary F1-score             0.0952\n",
      "------------------------------------------------------------\n",
      "Vocab Precision               0.5420\n",
      "Vocab Recall                  0.2012\n",
      "Vocab F1-score                0.2935\n",
      "============================================================\n",
      "\n",
      "Additional Statistics:\n",
      "Reference words: 117857\n",
      "Hypothesis words: 170501\n",
      "Correct words: 53230\n",
      "Reference vocabulary size: 10840\n",
      "Hypothesis vocabulary size: 4024\n",
      "Common vocabulary: 2181\n",
      "\n",
      "Top Segmentation Errors Analysis\n",
      "============================================================\n",
      "Total errors: 106473\n",
      "\n",
      "Most Frequent Over-Segmentation Errors (System split where it shouldn't):\n",
      "\n",
      "Most Frequent Under-Segmentation Errors (System joined what should be separate):\n",
      "\n",
      "Most Frequent Complex Boundary Errors:\n",
      "  592 × REF: 'ကျွန်တော်' → HYP: 'ကျွန်'\n",
      "  579 × REF: 'ခင်ဗျား' → HYP: 'ခင်'\n",
      "  198 × REF: 'သည်' → HYP: 'အ'\n",
      "  175 × REF: 'တို့' → HYP: 'တော်'\n",
      "  140 × REF: 'ကို' → HYP: 'အ'\n",
      "  134 × REF: 'အဲဒီ' → HYP: 'အဲ'\n",
      "  124 × REF: 'ကျွန်တော့်' → HYP: 'ကျွန်'\n",
      "  124 × REF: 'တယ်' → HYP: 'ပါ'\n",
      "  120 × REF: 'ပါ' → HYP: 'အ'\n",
      "  107 × REF: 'ဘူး' → HYP: 'မ'\n"
     ]
    }
   ],
   "source": [
    "!python ./tools/eval_segmentation.py -r ./data/10k_test.txt -H ./exp_1/dict_sylfreq_bimmfallback.seg --top-k 10"
   ]
  },
  {
   "cell_type": "markdown",
   "id": "5fcd3616-5a16-461d-bbc0-f1a56a837468",
   "metadata": {},
   "source": [
    "**ရလဒ်က အပြောင်းအလဲ မရှိဘူး။**  "
   ]
  },
  {
   "cell_type": "markdown",
   "id": "eb95b149-eacf-46f7-bd98-73ede2b769bf",
   "metadata": {},
   "source": [
    "## 3.dict_sylfreq_bimmfallback_bimmboost50 (closed-test)"
   ]
  },
  {
   "cell_type": "code",
   "execution_count": 38,
   "id": "40896e3a-6811-4fd9-806c-525c52037244",
   "metadata": {},
   "outputs": [
    {
     "name": "stdout",
     "output_type": "stream",
     "text": [
      "\n",
      "real\t0m1.078s\n",
      "user\t0m1.067s\n",
      "sys\t0m0.010s\n"
     ]
    }
   ],
   "source": [
    "!time python oppa_word.py \\\n",
    "  --input ./data/10k_test.txt \\\n",
    "  --output \"exp_1/dict_sylfreq_bimmfallback_bimmboost50.seg\" \\\n",
    "  --postrule-file \"./data/rules.txt\" \\\n",
    "  --space-remove-mode \"my_not_num\" \\\n",
    "  --dict \"./data/myg2p_mypos.dict\" \\\n",
    "  --sylfreq \"./data/myMono.freq\" \\\n",
    "  --use-bimm-fallback \\\n",
    "  --bimm-boost 50"
   ]
  },
  {
   "cell_type": "code",
   "execution_count": 43,
   "id": "2924b43e-88e2-46ef-9702-da9400d7b749",
   "metadata": {},
   "outputs": [
    {
     "name": "stdout",
     "output_type": "stream",
     "text": [
      "၁၉၆၂ ခုနှစ် ခန့်မှန်း သန်း ခေါင် စာ ရင်း အရ လူဦး ရေ ၁၁၅၉၃၁ ယောက် ရှိ သည်\n",
      "လူ တိုင်း တွင် သင့်မြတ် လျော်ကန် စွာ ကန့်သတ် ထား သည့် အ လုပ် လုပ် ချိန် အပြင် လစာ နှင့်တကွ အခါ ကာလ အားလျော်စွာ သတ်မှတ် ထား သည့် အလုပ် အားလပ်ရက် များ ပါဝင် သည့် အ နား ယူ ခွင့် နှင့် အားလပ်ခွင့် ခံ စား ပိုင် ခွင့် ရှိ သည်\n",
      "ဤ နည်း ကို စစ်ယူ သော နည်း ဟု ခေါ် သည်\n",
      "စာပြန်ပွဲ ဆို တာ က အာဂုံဆောင် အလွတ်ကျက် ထား တဲ့ ပိ ဋ ကတ် သုံး ပုံ စာပေ တွေ ကို စာစစ် သံဃာတော်ကြီး တွေ ရဲ့ ရှေ့မှာ အလွတ် ပြန် ပြီး ရွတ်ပြ ရ တာ ပေါ့\n",
      "ဒီ မှာ ကျွန်တော့် သက် သေ ခံ ကတ် ပါ\n",
      "၂ ဝ ရာစု မြန်မာ့ သမိုင်း သန်း ဝင်း လှိုင် ၂ ဝ ဝ၉ ခု မေ လ ကံ ကော် ဝတ် ရည် စာပေ\n",
      "ကျွန်တော် မျက်မှန် တစ် လက်လုပ် ချင် ပါ တယ်\n",
      "ကျွန်တော် တို့ က ဒီ အမှု ရဲ့ ကြံရာပါ ကို ဖမ်းမိ ဖို့ ကြိုးစား ခဲ့ တယ်\n",
      "ကလေး မီးဖွား ဖို့ ခန့်မှန်း ရက် က ဘယ်တော့ ပါ လဲ\n",
      "အ ရိုး ရှင်း ဆုံး ကာဗိုဟိုက်ဒရိတ် မှာ ဂလူးကို့စ် ဂလက်တို့စ် ဖရပ်တို့စ် စသည့် မို နို ဆက် က ရိုက် များ ဖြစ် သည်\n"
     ]
    }
   ],
   "source": [
    "!head ./exp_1/dict_sylfreq_bimmfallback_bimmboost50.seg"
   ]
  },
  {
   "cell_type": "markdown",
   "id": "e748100b-d75d-45a5-a993-4dc0c93b8bf6",
   "metadata": {},
   "source": [
    "## Evaluation for dict_sylfreq_bimmfallback_bimmboost50 (closed-test)"
   ]
  },
  {
   "cell_type": "code",
   "execution_count": 39,
   "id": "a80b8965-c2c3-412c-b755-b1cda60c1102",
   "metadata": {},
   "outputs": [
    {
     "name": "stdout",
     "output_type": "stream",
     "text": [
      "\n",
      "Word Segmentation Evaluation Results\n",
      "============================================================\n",
      "Metric                         Score\n",
      "------------------------------------------------------------\n",
      "Word Precision                0.7908\n",
      "Word Recall                   0.8391\n",
      "Word F1-score                 0.8142\n",
      "------------------------------------------------------------\n",
      "Boundary Precision            0.4829\n",
      "Boundary Recall               0.5124\n",
      "Boundary F1-score             0.4972\n",
      "------------------------------------------------------------\n",
      "Vocab Precision               0.8078\n",
      "Vocab Recall                  0.8093\n",
      "Vocab F1-score                0.8086\n",
      "============================================================\n",
      "\n",
      "Additional Statistics:\n",
      "Reference words: 117857\n",
      "Hypothesis words: 125044\n",
      "Correct words: 98889\n",
      "Reference vocabulary size: 10840\n",
      "Hypothesis vocabulary size: 10860\n",
      "Common vocabulary: 8773\n",
      "\n",
      "Top Segmentation Errors Analysis\n",
      "============================================================\n",
      "Total errors: 55000\n",
      "\n",
      "Most Frequent Over-Segmentation Errors (System split where it shouldn't):\n",
      "\n",
      "Most Frequent Under-Segmentation Errors (System joined what should be separate):\n",
      "\n",
      "Most Frequent Complex Boundary Errors:\n",
      "  115 × REF: 'ပါ' → HYP: 'တယ်'\n",
      "   68 × REF: 'မြန်မာ' → HYP: 'မြန်'\n",
      "   64 × REF: 'သည်' → HYP: 'အ'\n",
      "   54 × REF: 'ဖြစ်' → HYP: 'သည်'\n",
      "   51 × REF: 'နိုင်ငံ' → HYP: 'မာ'\n",
      "   50 × REF: 'ပေး' → HYP: 'ပါ'\n",
      "   45 × REF: 'တယ်' → HYP: 'ပါ'\n",
      "   45 × REF: 'သည်' → HYP: 'ခဲ့'\n",
      "   44 × REF: 'ချင်' → HYP: 'ပါ'\n",
      "   44 × REF: 'ကို' → HYP: 'အ'\n"
     ]
    }
   ],
   "source": [
    "!python ./tools/eval_segmentation.py -r ./data/10k_test.txt -H ./exp_1/dict_sylfreq_bimmfallback_bimmboost50.seg --top-k 10"
   ]
  },
  {
   "cell_type": "markdown",
   "id": "6c473b27-4333-41b2-83bb-347935b09eb4",
   "metadata": {},
   "source": [
    "**ရလဒ်က အများကြီး တက်လာတာကို တွေ့ရတယ် :)**"
   ]
  },
  {
   "cell_type": "markdown",
   "id": "e85656b6-52df-42fb-b8f0-9a537cf78bcf",
   "metadata": {},
   "source": [
    "## 4.dict_sylfreq_bimmfallback_bimmboost100 (closed-test)\n",
    "\n",
    "ဒီတခါ bimmboost ကို 100 ထိ တိုးကြည့်မယ်။  "
   ]
  },
  {
   "cell_type": "code",
   "execution_count": 45,
   "id": "49a18b61-b2ac-4cd8-8773-11e1a1946da1",
   "metadata": {},
   "outputs": [
    {
     "name": "stdout",
     "output_type": "stream",
     "text": [
      "\n",
      "real\t0m1.074s\n",
      "user\t0m1.066s\n",
      "sys\t0m0.007s\n"
     ]
    }
   ],
   "source": [
    "!time python oppa_word.py \\\n",
    "  --input ./data/10k_test.txt \\\n",
    "  --output \"exp_1/dict_sylfreq_bimmfallback_bimmboost100.seg\" \\\n",
    "  --postrule-file \"./data/rules.txt\" \\\n",
    "  --space-remove-mode \"my_not_num\" \\\n",
    "  --dict \"./data/myg2p_mypos.dict\" \\\n",
    "  --sylfreq \"./data/myMono.freq\" \\\n",
    "  --use-bimm-fallback \\\n",
    "  --bimm-boost 100"
   ]
  },
  {
   "cell_type": "code",
   "execution_count": 46,
   "id": "d852cf0d-24cb-4a9c-a1b2-e30d81ab6ff0",
   "metadata": {},
   "outputs": [
    {
     "name": "stdout",
     "output_type": "stream",
     "text": [
      "၁၉၆၂ ခုနှစ် ခန့်မှန်း သန်းခေါင်စာရင်း အရ လူဦး ရေ ၁၁၅၉၃၁ ယောက် ရှိ သည်\n",
      "လူ တိုင်း တွင် သင့်မြတ် လျော်ကန် စွာ ကန့်သတ် ထား သည့် အလုပ် လုပ်ချိန် အပြင် လစာ နှင့်တကွ အခါ ကာလ အားလျော်စွာ သတ်မှတ် ထား သည့် အလုပ် အားလပ်ရက် များ ပါဝင် သည့် အနားယူခွင့် နှင့် အားလပ်ခွင့် ခံစားပိုင်ခွင့် ရှိ သည်\n",
      "ဤ နည်း ကို စစ်ယူ သော နည်း ဟု ခေါ် သည်\n",
      "စာပြန်ပွဲ ဆို တာ က အာဂုံဆောင် အလွတ်ကျက် ထား တဲ့ ပိဋကတ်သုံးပုံ စာပေ တွေ ကို စာစစ် သံဃာတော်ကြီး တွေ ရဲ့ ရှေ့မှာ အလွတ် ပြန် ပြီး ရွတ်ပြ ရ တာ ပေါ့\n",
      "ဒီ မှာ ကျွန်တော့် သက်သေခံကတ် ပါ\n",
      "၂ ဝ ရာစု မြန်မာ့ သမိုင်း သန်း ဝင်း လှိုင် ၂ ဝ ဝ၉ ခု မေ လ ကံကော်ဝတ်ရည် စာပေ\n",
      "ကျွန်တော် မျက်မှန် တစ် လက်လုပ် ချင် ပါ တယ်\n",
      "ကျွန်တော် တို့ က ဒီ အမှု ရဲ့ ကြံရာပါ ကို ဖမ်းမိ ဖို့ ကြိုးစား ခဲ့ တယ်\n",
      "ကလေး မီးဖွား ဖို့ ခန့်မှန်း ရက် က ဘယ်တော့ ပါ လဲ\n",
      "အရိုးရှင်းဆုံး ကာဗိုဟိုက်ဒရိတ် မှာ ဂလူးကို့စ် ဂလက်တို့စ် ဖရပ်တို့စ် စသည့် မိုနိုဆက်ကရိုက် များ ဖြစ် သည်\n"
     ]
    }
   ],
   "source": [
    "!head ./exp_1/dict_sylfreq_bimmfallback_bimmboost100.seg"
   ]
  },
  {
   "cell_type": "markdown",
   "id": "7bc19da8-cea8-4b56-a845-670bf9550b6d",
   "metadata": {},
   "source": [
    "## Evaluation for dict_sylfreq_bimmfallback_bimmboost100 (closed-test)"
   ]
  },
  {
   "cell_type": "code",
   "execution_count": 47,
   "id": "c1c00808-c233-4000-bda5-694bdf39e725",
   "metadata": {},
   "outputs": [
    {
     "name": "stdout",
     "output_type": "stream",
     "text": [
      "\n",
      "Word Segmentation Evaluation Results\n",
      "============================================================\n",
      "Metric                         Score\n",
      "------------------------------------------------------------\n",
      "Word Precision                0.9028\n",
      "Word Recall                   0.8805\n",
      "Word F1-score                 0.8915\n",
      "------------------------------------------------------------\n",
      "Boundary Precision            0.6258\n",
      "Boundary Recall               0.6103\n",
      "Boundary F1-score             0.6180\n",
      "------------------------------------------------------------\n",
      "Vocab Precision               0.8246\n",
      "Vocab Recall                  0.9204\n",
      "Vocab F1-score                0.8699\n",
      "============================================================\n",
      "\n",
      "Additional Statistics:\n",
      "Reference words: 117857\n",
      "Hypothesis words: 114946\n",
      "Correct words: 103777\n",
      "Reference vocabulary size: 10840\n",
      "Hypothesis vocabulary size: 12099\n",
      "Common vocabulary: 9977\n",
      "\n",
      "Top Segmentation Errors Analysis\n",
      "============================================================\n",
      "Total errors: 41558\n",
      "\n",
      "Most Frequent Over-Segmentation Errors (System split where it shouldn't):\n",
      "\n",
      "Most Frequent Under-Segmentation Errors (System joined what should be separate):\n",
      "\n",
      "Most Frequent Complex Boundary Errors:\n",
      "  154 × REF: 'ပါ' → HYP: 'တယ်'\n",
      "  100 × REF: 'ဖြစ်' → HYP: 'သည်'\n",
      "   73 × REF: 'ခဲ့' → HYP: 'သည်'\n",
      "   59 × REF: 'ကြ' → HYP: 'သည်'\n",
      "   58 × REF: 'ခဲ့' → HYP: 'တယ်'\n",
      "   55 × REF: 'ပေး' → HYP: 'ပါ'\n",
      "   54 × REF: 'များ' → HYP: 'ကို'\n",
      "   51 × REF: 'ချင်' → HYP: 'ပါ'\n",
      "   51 × REF: 'သည်' → HYP: 'ခဲ့'\n",
      "   50 × REF: 'မ' → HYP: 'ရှိ'\n"
     ]
    }
   ],
   "source": [
    "!python ./tools/eval_segmentation.py -r ./data/10k_test.txt -H ./exp_1/dict_sylfreq_bimmfallback_bimmboost100.seg --top-k 10"
   ]
  },
  {
   "cell_type": "markdown",
   "id": "c630cd9c-0e35-4fd0-816d-610187fbaf90",
   "metadata": {},
   "source": [
    "ရလဒ် ထပ်တက်လာတာကို ရှာဖွေတွေ့ရှိတယ်။  \n",
    "--bimm-boost 50 နဲ့ 100 အကြားမှာ...  \n",
    "**Correct words: 98889 ကနေ 103777 ထိ တက်လာတယ်။**    "
   ]
  },
  {
   "cell_type": "markdown",
   "id": "7e22ba29-68e3-4bc5-9f16-3a7bf7bd537c",
   "metadata": {},
   "source": [
    "## 5.dict_sylfreq_arpa_bimmfallback_bimmboost100 (closed-test)\n",
    "\n",
    "ဒီတခါတော့ LM ပါ သုံးကြည့်မယ်။  "
   ]
  },
  {
   "cell_type": "code",
   "execution_count": 48,
   "id": "bf380a8b-09c1-4dd1-95cc-8a6fc8ca384d",
   "metadata": {},
   "outputs": [
    {
     "name": "stdout",
     "output_type": "stream",
     "text": [
      "\n",
      "real\t0m32.316s\n",
      "user\t0m29.952s\n",
      "sys\t0m2.354s\n"
     ]
    }
   ],
   "source": [
    "!time python oppa_word.py \\\n",
    "  --input ./data/10k_test.txt \\\n",
    "  --output \"exp_1/dict_sylfreq_arpa_bimmfallback_bimmboost100.seg\" \\\n",
    "  --postrule-file \"./data/rules.txt\" \\\n",
    "  --space-remove-mode \"my_not_num\" \\\n",
    "  --dict \"./data/myg2p_mypos.dict\" \\\n",
    "  --sylfreq \"./data/myMono.freq\" \\\n",
    "  --arpa \"./data/myMono_clean_syl.arpa\" \\\n",
    "  --use-bimm-fallback \\\n",
    "  --bimm-boost 100"
   ]
  },
  {
   "cell_type": "markdown",
   "id": "57ce131b-adb0-4322-b144-856315501804",
   "metadata": {},
   "source": [
    "ARPA format LM ထည့်လိုက်တဲ့အတွက် running time က ၃၂ စက္ကန့်တော့ ကြာသွားတယ်။ \n",
    "\n",
    "## Evaluation for dict_sylfreq_arpa_bimmfallback_bimmboost100 (closed-test)"
   ]
  },
  {
   "cell_type": "code",
   "execution_count": 49,
   "id": "f64f7f87-f4e5-4a6d-a8cc-dffc1c1242fa",
   "metadata": {},
   "outputs": [
    {
     "name": "stdout",
     "output_type": "stream",
     "text": [
      "\n",
      "Word Segmentation Evaluation Results\n",
      "============================================================\n",
      "Metric                         Score\n",
      "------------------------------------------------------------\n",
      "Word Precision                0.8998\n",
      "Word Recall                   0.8795\n",
      "Word F1-score                 0.8895\n",
      "------------------------------------------------------------\n",
      "Boundary Precision            0.6225\n",
      "Boundary Recall               0.6085\n",
      "Boundary F1-score             0.6154\n",
      "------------------------------------------------------------\n",
      "Vocab Precision               0.8244\n",
      "Vocab Recall                  0.9179\n",
      "Vocab F1-score                0.8686\n",
      "============================================================\n",
      "\n",
      "Additional Statistics:\n",
      "Reference words: 117857\n",
      "Hypothesis words: 115207\n",
      "Correct words: 103659\n",
      "Reference vocabulary size: 10840\n",
      "Hypothesis vocabulary size: 12070\n",
      "Common vocabulary: 9950\n",
      "\n",
      "Top Segmentation Errors Analysis\n",
      "============================================================\n",
      "Total errors: 41802\n",
      "\n",
      "Most Frequent Over-Segmentation Errors (System split where it shouldn't):\n",
      "\n",
      "Most Frequent Under-Segmentation Errors (System joined what should be separate):\n",
      "\n",
      "Most Frequent Complex Boundary Errors:\n",
      "  154 × REF: 'ပါ' → HYP: 'တယ်'\n",
      "   99 × REF: 'ဖြစ်' → HYP: 'သည်'\n",
      "   70 × REF: 'ခဲ့' → HYP: 'သည်'\n",
      "   59 × REF: 'ကြ' → HYP: 'သည်'\n",
      "   58 × REF: 'ခဲ့' → HYP: 'တယ်'\n",
      "   55 × REF: 'ပေး' → HYP: 'ပါ'\n",
      "   54 × REF: 'များ' → HYP: 'ကို'\n",
      "   51 × REF: 'ချင်' → HYP: 'ပါ'\n",
      "   50 × REF: 'မ' → HYP: 'ရှိ'\n",
      "   49 × REF: 'ချင်' → HYP: 'တယ်'\n"
     ]
    }
   ],
   "source": [
    "!python ./tools/eval_segmentation.py -r ./data/10k_test.txt -H ./exp_1/dict_sylfreq_arpa_bimmfallback_bimmboost100.seg --top-k 10"
   ]
  },
  {
   "cell_type": "markdown",
   "id": "24509c1d-aa18-4150-8ccb-cd8feea3b82f",
   "metadata": {},
   "source": [
    "LM ထည့်လိုက်တော့မှ  \n",
    "\n",
    "Correct words: 103777 ကနေ 103659 ထိ အနည်းငယ်ကျသွားတာကို တွေ့ရတယ်။  \n",
    "P, R, F-1 score ရလဒ်တွေလည်း အနည်းငယ်လျော့သွားတာကို တွေ့ရတယ်။  \n",
    "နားလည်တာက syllable LM က အရမ်းကြီး အထောက်အပံ့မပြုဘူး ဆိုတဲ့အချက်။  "
   ]
  },
  {
   "cell_type": "markdown",
   "id": "5b4ccfd0-75fc-4bc6-aed2-35d47106dfbd",
   "metadata": {},
   "source": [
    "## 6.dict_only_bimmfallback_bimmboost150 (closed-test) \n",
    "\n",
    "ဒီတခါတော့ dictionary တခုတည်းကိုပဲ သုံးပြီး bimmfallback နဲ့ bimmboost ကို 150 ထိ ထားပြီး experiment လုပ်ကြည့်မယ်။  "
   ]
  },
  {
   "cell_type": "code",
   "execution_count": 56,
   "id": "510def17-2566-4749-9d57-c487db8a27b0",
   "metadata": {},
   "outputs": [
    {
     "name": "stdout",
     "output_type": "stream",
     "text": [
      "\n",
      "real\t0m0.880s\n",
      "user\t0m0.862s\n",
      "sys\t0m0.011s\n"
     ]
    }
   ],
   "source": [
    "!time python oppa_word.py \\\n",
    "  --input \"./data/10k_test.txt\" \\\n",
    "  --output \"exp_1/dict_only_bimmfallback_bimmboost150.seg\" \\\n",
    "  --postrule-file \"./data/rules.txt\" \\\n",
    "  --space-remove-mode \"my_not_num\" \\\n",
    "  --dict \"./data/myg2p_mypos.dict\" \\\n",
    "  --use-bimm-fallback \\\n",
    "  --bimm-boost 150"
   ]
  },
  {
   "cell_type": "markdown",
   "id": "fa29e318-13e9-4fc1-9fb1-de5844f2fab6",
   "metadata": {},
   "source": [
    "**Dictionary ပဲ သုံးတဲ့အတွက် run time ကတော့ အရမ်းမြန်တယ်။**  "
   ]
  },
  {
   "cell_type": "code",
   "execution_count": 57,
   "id": "f9052d47-95fc-4945-bc76-d30d6508bded",
   "metadata": {},
   "outputs": [
    {
     "name": "stdout",
     "output_type": "stream",
     "text": [
      "၁၉၆၂ ခုနှစ် ခန့်မှန်း သန်းခေါင်စာရင်း အရ လူဦး ရေ ၁၁၅၉၃၁ ယောက် ရှိ သည်\n",
      "လူ တိုင်း တွင် သင့်မြတ် လျော်ကန် စွာ ကန့်သတ် ထား သည့် အလုပ် လုပ်ချိန် အပြင် လစာ နှင့်တကွ အခါ ကာလ အားလျော်စွာ သတ်မှတ် ထား သည့် အလုပ် အားလပ်ရက် များ ပါဝင် သည့် အနားယူခွင့် နှင့် အားလပ်ခွင့် ခံစားပိုင်ခွင့် ရှိ သည်\n",
      "ဤ နည်း ကို စစ်ယူ သော နည်း ဟု ခေါ် သည်\n",
      "စာပြန်ပွဲ ဆို တာ က အာဂုံဆောင် အလွတ်ကျက် ထား တဲ့ ပိဋကတ်သုံးပုံ စာပေ တွေ ကို စာစစ် သံဃာတော်ကြီး တွေ ရဲ့ ရှေ့မှာ အလွတ် ပြန် ပြီး ရွတ်ပြ ရ တာ ပေါ့\n",
      "ဒီ မှာ ကျွန်တော့် သက်သေခံကတ် ပါ\n",
      "၂ ဝ ရာစု မြန်မာ့ သမိုင်း သန်း ဝင်း လှိုင် ၂ ဝ ဝ၉ ခု မေ လ ကံကော်ဝတ်ရည် စာပေ\n",
      "ကျွန်တော် မျက်မှန် တစ် လက်လုပ် ချင် ပါ တယ်\n",
      "ကျွန်တော် တို့ က ဒီ အမှု ရဲ့ ကြံရာပါ ကို ဖမ်းမိ ဖို့ ကြိုးစား ခဲ့ တယ်\n",
      "ကလေး မီးဖွား ဖို့ ခန့်မှန်း ရက် က ဘယ်တော့ ပါ လဲ\n",
      "အရိုးရှင်းဆုံး ကာဗိုဟိုက်ဒရိတ် မှာ ဂလူးကို့စ် ဂလက်တို့စ် ဖရပ်တို့စ် စသည့် မိုနိုဆက်ကရိုက် များ ဖြစ် သည်\n"
     ]
    }
   ],
   "source": [
    "!head ./exp_1/dict_only_bimmfallback_bimmboost150.seg"
   ]
  },
  {
   "cell_type": "markdown",
   "id": "fc467f6c-fa71-44a7-8706-7aaf96f0dfe6",
   "metadata": {},
   "source": [
    "## Evaluation of dict_only_bimmfallback_bimmboost150  (closed-test)"
   ]
  },
  {
   "cell_type": "code",
   "execution_count": 58,
   "id": "4e39b703-e79d-4377-adb5-a9d2fd3ac975",
   "metadata": {},
   "outputs": [
    {
     "name": "stdout",
     "output_type": "stream",
     "text": [
      "\n",
      "Word Segmentation Evaluation Results\n",
      "============================================================\n",
      "Metric                         Score\n",
      "------------------------------------------------------------\n",
      "Word Precision                0.9034\n",
      "Word Recall                   0.8807\n",
      "Word F1-score                 0.8919\n",
      "------------------------------------------------------------\n",
      "Boundary Precision            0.6263\n",
      "Boundary Recall               0.6106\n",
      "Boundary F1-score             0.6184\n",
      "------------------------------------------------------------\n",
      "Vocab Precision               0.8245\n",
      "Vocab Recall                  0.9208\n",
      "Vocab F1-score                0.8700\n",
      "============================================================\n",
      "\n",
      "Additional Statistics:\n",
      "Reference words: 117857\n",
      "Hypothesis words: 114896\n",
      "Correct words: 103794\n",
      "Reference vocabulary size: 10840\n",
      "Hypothesis vocabulary size: 12107\n",
      "Common vocabulary: 9982\n",
      "\n",
      "Top Segmentation Errors Analysis\n",
      "============================================================\n",
      "Total errors: 41517\n",
      "\n",
      "Most Frequent Over-Segmentation Errors (System split where it shouldn't):\n",
      "\n",
      "Most Frequent Under-Segmentation Errors (System joined what should be separate):\n",
      "\n",
      "Most Frequent Complex Boundary Errors:\n",
      "  155 × REF: 'ပါ' → HYP: 'တယ်'\n",
      "  100 × REF: 'ဖြစ်' → HYP: 'သည်'\n",
      "   73 × REF: 'ခဲ့' → HYP: 'သည်'\n",
      "   59 × REF: 'ကြ' → HYP: 'သည်'\n",
      "   58 × REF: 'ခဲ့' → HYP: 'တယ်'\n",
      "   55 × REF: 'ပေး' → HYP: 'ပါ'\n",
      "   54 × REF: 'များ' → HYP: 'ကို'\n",
      "   52 × REF: 'ချင်' → HYP: 'ပါ'\n",
      "   52 × REF: 'သည်' → HYP: 'ခဲ့'\n",
      "   50 × REF: 'မ' → HYP: 'ရှိ'\n"
     ]
    }
   ],
   "source": [
    "!python ./tools/eval_segmentation.py -r ./data/10k_test.txt -H ./exp_1/dict_only_bimmfallback_bimmboost150.seg --top-k 10"
   ]
  },
  {
   "cell_type": "markdown",
   "id": "6fa7264c-7fb0-465a-bc08-8b9e0b3afef2",
   "metadata": {},
   "source": [
    "အခုချိန်ထိ ရလဒ်အများဆုံး ...  "
   ]
  },
  {
   "cell_type": "markdown",
   "id": "6d0ab6e3-9972-4696-a2f7-057c4ba1f9aa",
   "metadata": {},
   "source": [
    "## 7. bimm-boost Up to 200 (closed-test)\n",
    "\n",
    "--bimm-boost 200 ထိ တိုးပြီး dictionary only နဲ့ပဲ ထပ်စမ်းကြည့်ခဲ့တယ်။  "
   ]
  },
  {
   "cell_type": "code",
   "execution_count": 59,
   "id": "c1d0d2bb-d811-4f4c-a054-ef3f44983fc7",
   "metadata": {},
   "outputs": [
    {
     "name": "stdout",
     "output_type": "stream",
     "text": [
      "\n",
      "real\t0m0.881s\n",
      "user\t0m0.875s\n",
      "sys\t0m0.006s\n"
     ]
    }
   ],
   "source": [
    "!time python oppa_word.py \\\n",
    "  --input \"./data/10k_test.txt\" \\\n",
    "  --output \"exp_1/dict_only_bimmfallback_bimmboost200.seg\" \\\n",
    "  --postrule-file \"./data/rules.txt\" \\\n",
    "  --space-remove-mode \"my_not_num\" \\\n",
    "  --dict \"./data/myg2p_mypos.dict\" \\\n",
    "  --use-bimm-fallback \\\n",
    "  --bimm-boost 200"
   ]
  },
  {
   "cell_type": "code",
   "execution_count": 60,
   "id": "87ada6f2-aa3d-4a05-a0dd-fb20e43f29ef",
   "metadata": {},
   "outputs": [
    {
     "name": "stdout",
     "output_type": "stream",
     "text": [
      "\n",
      "Word Segmentation Evaluation Results\n",
      "============================================================\n",
      "Metric                         Score\n",
      "------------------------------------------------------------\n",
      "Word Precision                0.9034\n",
      "Word Recall                   0.8807\n",
      "Word F1-score                 0.8919\n",
      "------------------------------------------------------------\n",
      "Boundary Precision            0.6263\n",
      "Boundary Recall               0.6106\n",
      "Boundary F1-score             0.6184\n",
      "------------------------------------------------------------\n",
      "Vocab Precision               0.8245\n",
      "Vocab Recall                  0.9208\n",
      "Vocab F1-score                0.8700\n",
      "============================================================\n",
      "\n",
      "Additional Statistics:\n",
      "Reference words: 117857\n",
      "Hypothesis words: 114896\n",
      "Correct words: 103794\n",
      "Reference vocabulary size: 10840\n",
      "Hypothesis vocabulary size: 12107\n",
      "Common vocabulary: 9982\n",
      "\n",
      "Top Segmentation Errors Analysis\n",
      "============================================================\n",
      "Total errors: 41517\n",
      "\n",
      "Most Frequent Over-Segmentation Errors (System split where it shouldn't):\n",
      "\n",
      "Most Frequent Under-Segmentation Errors (System joined what should be separate):\n",
      "\n",
      "Most Frequent Complex Boundary Errors:\n",
      "  155 × REF: 'ပါ' → HYP: 'တယ်'\n",
      "  100 × REF: 'ဖြစ်' → HYP: 'သည်'\n",
      "   73 × REF: 'ခဲ့' → HYP: 'သည်'\n",
      "   59 × REF: 'ကြ' → HYP: 'သည်'\n",
      "   58 × REF: 'ခဲ့' → HYP: 'တယ်'\n",
      "   55 × REF: 'ပေး' → HYP: 'ပါ'\n",
      "   54 × REF: 'များ' → HYP: 'ကို'\n",
      "   52 × REF: 'ချင်' → HYP: 'ပါ'\n",
      "   52 × REF: 'သည်' → HYP: 'ခဲ့'\n",
      "   50 × REF: 'မ' → HYP: 'ရှိ'\n"
     ]
    }
   ],
   "source": [
    "!python ./tools/eval_segmentation.py -r ./data/10k_test.txt -H ./exp_1/dict_only_bimmfallback_bimmboost200.seg --top-k 10"
   ]
  },
  {
   "cell_type": "markdown",
   "id": "72afa22b-5bc1-46be-bf10-585d7177d07d",
   "metadata": {},
   "source": [
    "**ရလဒ်က ဒီထက် ဆက်မတက်နိုင်တော့တာကို တွေ့ရတယ်။**\n",
    "\n",
    "အဲဒါကြောင့် open test ကို လက်ရှိ နောက်ဆုံး setting နဲ့ပဲ စမ်းယုံနဲ့ လုံလောက်တယ်လို့ ယူဆခဲ့တယ်။  \n",
    "(တကယ်က ဒီ notebook နဲ့ demo လုပ်မပြခင် experiment အများကြီး လုပ်ထားပြီးသားပါ။)  \n",
    "open-test ဆိုရင် word segmentation ဖြတ်ရတာ ပိုခက်တာမို့လို့ ... "
   ]
  },
  {
   "cell_type": "markdown",
   "id": "981a36d0-4fe3-46a6-b66b-61e3c290df16",
   "metadata": {},
   "source": [
    "## 1. dict_only_bimmfallback_bimmboost150 (open-test) \n",
    "\n",
    "ဒီတခါတော့ open test စာကြောင်းရေ တစ်ထောင်နဲ့ စမ်းမယ်။ ရှေ့က run ထားခဲ့တဲ့ baseline approach တွေနဲ့ နှိုင်းယှဉ်ကြည့်မယ်။  "
   ]
  },
  {
   "cell_type": "code",
   "execution_count": 61,
   "id": "d0cf2e6d-54b6-4ae3-9eb1-398b7460422a",
   "metadata": {},
   "outputs": [
    {
     "name": "stdout",
     "output_type": "stream",
     "text": [
      "\n",
      "real\t0m0.133s\n",
      "user\t0m0.128s\n",
      "sys\t0m0.004s\n"
     ]
    }
   ],
   "source": [
    "!time python oppa_word.py \\\n",
    "  --input \"./data/otest.1k.word\" \\\n",
    "  --output \"exp_1/dict_only_bimmfallback_bimmboost150_otest.seg\" \\\n",
    "  --postrule-file \"./data/rules.txt\" \\\n",
    "  --space-remove-mode \"my_not_num\" \\\n",
    "  --dict \"./data/myg2p_mypos.dict\" \\\n",
    "  --use-bimm-fallback \\\n",
    "  --bimm-boost 150"
   ]
  },
  {
   "cell_type": "code",
   "execution_count": 62,
   "id": "1938586a-53a4-49a1-87f5-23b8363e1814",
   "metadata": {},
   "outputs": [
    {
     "name": "stdout",
     "output_type": "stream",
     "text": [
      "တစ် ကိုက် ကို ဝမ် ခုနှစ်ထောင် ပါ ။\n",
      "မနှစ် က သူ ကျွန်မ ကို သင်ပေး တယ် ။\n",
      "ကျွန်တော့် ခုံ သွား ရှာ မလို့ ။\n",
      "အတန်း စတာ ကြာ ပြီ လား ။\n",
      "ဆေး နည်းနည်း စား လိုက် ၊ သုံး လေး ရက် လောက် အနားယူ လိုက် ရင် ပျောက် သွား မှာ ပါ ။\n",
      "အေးချမ်း မှု နဲ့ စည်းကမ်း ကို တည်မြဲ အောင် ထိန်းသိမ်း သည် ။\n",
      "ဇွန်း ကို လိုအပ် တယ် ။\n",
      "ဘွဲ့ရ ရင် ဘာ လုပ် မလို့ လဲ ။\n",
      "ကျွန်တော် ချောင်းဆိုး ခြင်း အတွက် တစ်ခုခု လို ချင် တယ် ။\n",
      "အသီးအနှံ တို့ မှ လွဲလျှင် လူ တို့ ၏ အဓိက အစားအစာ မှာ ငါး ဖြစ် သည် ။\n"
     ]
    }
   ],
   "source": [
    "!head ./exp_1/dict_only_bimmfallback_bimmboost150_otest.seg"
   ]
  },
  {
   "cell_type": "code",
   "execution_count": 64,
   "id": "d1cd34b3-1167-4311-890f-45b53e10cc9e",
   "metadata": {},
   "outputs": [
    {
     "name": "stdout",
     "output_type": "stream",
     "text": [
      "အိုးခွက်ပန်းကန် တွေ သိပ် မ ရှိ လို့ ထမင်းဟင်း ချက် ရ တာ အဆင်မပြေ ဘူး ။\n",
      "စိတ်ဝင်စား ဖို့ ကောင်း တယ် ။\n",
      "ဒီ ဆေး ကို တဝက် စီ ခွဲ ပေး ပါ ။\n",
      "ရောင်း ကောင်း လား ။\n",
      "ဆရာ ဒီ သွား က ခဏခဏ နာ နေ တယ် ။\n",
      "အခု ဘာ လုပ် နေ လဲ ။\n",
      "ဇူ လိုင် ၁၄ ရက် မှာ ဘန်ကောက် ကို သွား မယ့် US 123 မှာ ပါ ။ ဟုတ် လား ။\n",
      "ကား မှ ကားဘီး ကို ဖြုတ် လိုက် သည် ။\n",
      "ကျွန်တော် သိ ပါရစေ ။\n",
      "ဘူတာရုံ က အလွန်တရာ ပြည့်ကျပ် နေ သည် ။\n"
     ]
    }
   ],
   "source": [
    "!tail ./exp_1/dict_only_bimmfallback_bimmboost150_otest.seg"
   ]
  },
  {
   "cell_type": "markdown",
   "id": "43cf43ef-2923-4e5f-85af-6865bbd08c91",
   "metadata": {},
   "source": [
    "## Evaluation of dict_only_bimmfallback_bimmboost150 (open-test) "
   ]
  },
  {
   "cell_type": "code",
   "execution_count": 66,
   "id": "af6f43f0-dfe0-453c-bdc4-52d2c0ace34d",
   "metadata": {},
   "outputs": [
    {
     "name": "stdout",
     "output_type": "stream",
     "text": [
      "\n",
      "Word Segmentation Evaluation Results\n",
      "============================================================\n",
      "Metric                         Score\n",
      "------------------------------------------------------------\n",
      "Word Precision                0.9094\n",
      "Word Recall                   0.8893\n",
      "Word F1-score                 0.8992\n",
      "------------------------------------------------------------\n",
      "Boundary Precision            0.6116\n",
      "Boundary Recall               0.5981\n",
      "Boundary F1-score             0.6048\n",
      "------------------------------------------------------------\n",
      "Vocab Precision               0.8183\n",
      "Vocab Recall                  0.9158\n",
      "Vocab F1-score                0.8643\n",
      "============================================================\n",
      "\n",
      "Additional Statistics:\n",
      "Reference words: 13468\n",
      "Hypothesis words: 13170\n",
      "Correct words: 11977\n",
      "Reference vocabulary size: 2709\n",
      "Hypothesis vocabulary size: 3032\n",
      "Common vocabulary: 2481\n",
      "\n",
      "Top Segmentation Errors Analysis\n",
      "============================================================\n",
      "Total errors: 4966\n",
      "\n",
      "Most Frequent Over-Segmentation Errors (System split where it shouldn't):\n",
      "\n",
      "Most Frequent Under-Segmentation Errors (System joined what should be separate):\n",
      "\n",
      "Most Frequent Complex Boundary Errors:\n",
      "   50 × REF: 'တယ်' → HYP: '။'\n",
      "   49 × REF: 'သည်' → HYP: '။'\n",
      "   39 × REF: 'ပါ' → HYP: '။'\n",
      "   20 × REF: 'ပါ' → HYP: 'တယ်'\n",
      "   19 × REF: '။' → HYP: 'သည်'\n",
      "   19 × REF: 'မယ်' → HYP: '။'\n",
      "   17 × REF: 'လား' → HYP: '။'\n",
      "   17 × REF: 'ဖြစ်' → HYP: 'သည်'\n",
      "   13 × REF: 'ဘူး' → HYP: '။'\n",
      "   12 × REF: 'လဲ' → HYP: '။'\n"
     ]
    }
   ],
   "source": [
    "!python ./tools/eval_segmentation.py -r ./data/otest.1k.word -H ./exp_1/dict_only_bimmfallback_bimmboost150_otest.seg --top-k 10"
   ]
  },
  {
   "cell_type": "markdown",
   "id": "0cadd387-f994-4610-9ba2-fcbfe6bfc3f2",
   "metadata": {},
   "source": [
    "## Summary  \n",
    "\n",
    "Typical Score Ranges:  \n",
    "- Dictionary scores: ~10.0 (from --dict-weight)\n",
    "- Syllable scores: Typically 0-5 (log frequency based)\n",
    "- LM scores: Negative values (log probabilities), often -20 to 0\n",
    "\n",
    "Impact Analysis:  \n",
    "- At boost=50: Already dominates other scores (10 + -20 + 50 = 40)\n",
    "- At boost=150: (10 + -20 + 150 = 140) - completely overrides other factors\n",
    "- Beyond 150: No improvement because BiMM paths already always win\n",
    "\n",
    "oppaWord ရဲ့ run time ကတော့ တအားမြန်တယ်။  \n",
    "ခုချိန်က စပြီး ရှေ့က run ခဲ့တဲ့ baseline တွေနဲ့ oppaWord ရဲ့ ရလဒ်တွေကို နှိုင်းယှဉ်ကြည့်မယ်။  "
   ]
  },
  {
   "cell_type": "markdown",
   "id": "8fd5bd63-156b-4efe-a4de-050d0da5f9af",
   "metadata": {},
   "source": [
    "## Word Metrics (Closed Test)\n",
    "\n",
    "| Model     | Precision | Recall  | F1-score |\n",
    "|-----------|-----------|---------|----------|\n",
    "| myWord    | 0.8235    | 0.8958  | 0.8581   |\n",
    "| CRF       | 0.6928    | 0.6961  | 0.6944   |\n",
    "| LSTM      | 0.8970    | 0.9210  | **0.9088**   |\n",
    "| oppaWord  | 0.9034    | 0.8807  | 0.8919 |\n"
   ]
  },
  {
   "cell_type": "markdown",
   "id": "e7b32b30-1be0-4426-9180-884cc24c9557",
   "metadata": {},
   "source": [
    "## Boundary Metrics (Closed Test)\n",
    "\n",
    "| Model     | Precision | Recall  | F1-score |\n",
    "|-----------|-----------|---------|----------|\n",
    "| myWord    | 0.4695    | 0.5107  | 0.4893   |\n",
    "| CRF       | 0.3186    | 0.3201  | 0.3194   |\n",
    "| LSTM      | 0.6119    | 0.6283  | **0.6200** |\n",
    "| oppaWord  | 0.6263    | 0.6106  | 0.6184   |\n"
   ]
  },
  {
   "cell_type": "markdown",
   "id": "906d27d8-4f1d-4bce-bce8-4fb5fbf5ba44",
   "metadata": {},
   "source": [
    "## Vocab Metrics (Closed Test)\n",
    "\n",
    "| Model     | Precision | Recall  | F1-score |\n",
    "|-----------|-----------|---------|----------|\n",
    "| myWord    | 0.8953    | 0.6456  | 0.7502   |\n",
    "| CRF       | 0.3256    | 0.4674  | 0.3838   |\n",
    "| LSTM      | 0.7265    | 0.7093  | 0.7178   |\n",
    "| oppaWord  | 0.8245    | 0.9208  | **0.8700** |\n"
   ]
  },
  {
   "cell_type": "markdown",
   "id": "eda3fcf4-7672-48eb-a631-9380f8ed1d3b",
   "metadata": {},
   "source": [
    "## Additional Evaluation Statistics (Closed Test)\n",
    "\n",
    "| **Metric**                     | **myWord** | **CRF** | **LSTM** | **oppaWord** |\n",
    "|--------------------------------|------------|---------|----------|--------------|\n",
    "| **Reference words**            | 117857     | 117857  | 117857   | 117857       |\n",
    "| **Hypothesis words**           | 128206     | 118425  | 121013   | 114896       |\n",
    "| **Correct words**              | 105579     | 82042   | 108546   | 103794       |\n",
    "| **Reference vocab size**       | 10840      | 10840   | 10840    | 10840        |\n",
    "| **Hypothesis vocab size**      | 7816       | 15563   | 10584    | 12107        |\n",
    "| **Common vocabulary**          | 6998       | 5067    | 7689     | 9982         |\n",
    "| **Total segmentation errors**  | 57570      | 74443   | 42500    | 41517        |\n"
   ]
  },
  {
   "cell_type": "markdown",
   "id": "41984f8f-37cd-4ae7-b770-f2dfd66f9b31",
   "metadata": {},
   "source": [
    "Open Test နဲ့ word segmentation ရလဒ်တွေကို နှိုင်းယှဉ်ကြည့်မယ်။  \n",
    "\n",
    "## Word Metrics (Open Test)\n",
    "\n",
    "| Model     | Precision | Recall  | F1-score |\n",
    "|-----------|-----------|---------|----------|\n",
    "| myWord    | 0.8489    | 0.9121  | 0.8793   |\n",
    "| CRF       | 0.7019    | 0.7029  | 0.7024   |\n",
    "| LSTM      | 0.9055    | 0.9266  | **0.9159** |\n",
    "| oppaWord  | 0.9094    | 0.8893  | 0.8992   |\n"
   ]
  },
  {
   "cell_type": "markdown",
   "id": "52ebb855-53f6-4177-adb0-ed8a43118185",
   "metadata": {},
   "source": [
    "## Boundary Metrics (Open Test)\n",
    "\n",
    "| Model     | Precision | Recall  | F1-score |\n",
    "|-----------|-----------|---------|----------|\n",
    "| myWord    | 0.4769    | 0.5124  | 0.4940   |\n",
    "| CRF       | 0.3210    | 0.3215  | 0.3213   |\n",
    "| LSTM      | 0.6025    | 0.6165  | **0.6094** |\n",
    "| oppaWord  | 0.6116    | 0.5981  | 0.6048   |\n"
   ]
  },
  {
   "cell_type": "markdown",
   "id": "da52e999-5979-4ca3-b327-80cc80665256",
   "metadata": {},
   "source": [
    "## Vocab Metrics (Open Test)\n",
    "\n",
    "| Model     | Precision | Recall  | F1-score |\n",
    "|-----------|-----------|---------|----------|\n",
    "| myWord    | 0.8911    | 0.7645  | 0.8230   |\n",
    "| CRF       | 0.4646    | 0.5482  | 0.5030   |\n",
    "| LSTM      | 0.8091    | 0.8169  | 0.8130   |\n",
    "| oppaWord  | 0.8183    | 0.9158  | **0.8643** |\n"
   ]
  },
  {
   "cell_type": "markdown",
   "id": "0b12a05f-25fc-464d-9a6f-48d4fff525ca",
   "metadata": {},
   "source": [
    "## Additional Evaluation Statistics (Open Test)\n",
    "\n",
    "| **Metric**                     | **myWord** | **CRF** | **LSTM** | **oppaWord** |\n",
    "|--------------------------------|------------|---------|----------|--------------|\n",
    "| **Reference words**            | 13468      | 13468   | 13468    | 13468        |\n",
    "| **Hypothesis words**           | 14471      | 13487   | 13782    | 13170        |\n",
    "| **Correct words**              | 12284      | 9467    | 12479    | 11977        |\n",
    "| **Reference vocab size**       | 2709       | 2709    | 2709     | 2709         |\n",
    "| **Hypothesis vocab size**      | 2324       | 3196    | 2735     | 3032         |\n",
    "| **Common vocabulary**          | 2071       | 1485    | 2213     | 2481         |\n",
    "| **Total segmentation errors**  | 6568       | 8545    | 5042     | 4966         |\n"
   ]
  },
  {
   "cell_type": "markdown",
   "id": "7ec8f131-0b63-4e1f-8ff9-a08f25a291dc",
   "metadata": {},
   "source": [
    "## Conclusion or Findings \n",
    "\n",
    "- ရလဒ်တွေအားလုံးကနေ နားလည်တာက oppaWord run time က super fast ပါပဲ။  \n",
    "- အထူးသဖြင့် myWord ထက် အများကြီး မြန်တယ်။\n",
    "- Word Segmentation performance မှာတော့ LSTM ကို နီးပါးရတယ်။\n",
    "- oppaWord ရဲ့ အားသာချက်က training data ကိုသုံးပြီး training လုပ်စရာ မလိုဘူး။\n",
    "- သေချာတာက dictionary ကို ထပ်ဖြည့်သွားရင် ရလဒ်က ပိုတက်လာလိမ့်မယ်။\n",
    "- ဒီ experiment ကနေ ထပ်သိရတာက ငါတို့ monolingual ဒေတာကို ထပ်အားဖြည့်မှ ရလိမ့်မယ်။ လောလောဆယ် တစ်သန်းကျော်နဲ့ syllable LM က လက်ရှိ oppaWord approach နဲ့ဆိုရင်တော့ struggle လုပ်နေရတုန်းပဲ။ ဖြစ်နိုင်ရင်တော့ word segmentation ဖြတ်ထားတဲ့ ဒေတာနဲ့ LM အကြီးကြီး ဆောက်နိုင်ဖို့ လိုအပ်တယ်။\n",
    "- ပြီးတော့ bidirectional maximum matching ရဲ့ power ကိုလည်း ဒီ experiment ကနေ ထပ် confirm လုပ်လို့ ရတယ်။\n",
    "- oppaWord ရဲ့ proposal မှာ --use-bimm-fallback နဲ့ --bimm-boost BIMM_BOOST ကို သုံးပြထားတယ်။\n",
    "- input file ကိုလည်း oppaWord က --space-remove-mode သုံးရင် space ရှင်းပေးတာမို့ user အနေနဲ့ ပုံမှန်မြန်မာစာဖိုင်ကို ဒီအတိုင်း input လုပ်သုံးလို့ ရတယ်။\n",
    "- rule ဖိုင်နဲ့လည်း segmentation အမှားတွေကို ပြင်လို့ ရတာက လက်တွေ့ word segmentation အလုပ်တွေအတွက် အသုံးဝင်လိမ့်မယ်\n",
    "- ပြီးတော့ educational purpose အနေနဲ့ DAG visualization ကိုလည်း graph အနေနဲ့ ထုတ်ပြပေးနိုင်တယ်"
   ]
  },
  {
   "cell_type": "markdown",
   "id": "a5c606bc-8e72-4535-8520-2d4f9f022e0f",
   "metadata": {},
   "source": [
    "## To Do \n",
    "\n",
    "- Name dictionary ကို ဖြည့်ပြီး experiment လုပ်ရန်\n",
    "- အားလုံးသုံးလို့ ရအောင် oppaWord ကို အမြန်ဆုံး release လုပ်ရန်\n",
    "- myNLP မှာ oppaWord ကို ဖြည့်ရန်"
   ]
  },
  {
   "cell_type": "code",
   "execution_count": null,
   "id": "8174538e-f374-44f7-b642-602c1a4de08d",
   "metadata": {},
   "outputs": [],
   "source": []
  }
 ],
 "metadata": {
  "kernelspec": {
   "display_name": "Python 3 (ipykernel)",
   "language": "python",
   "name": "python3"
  },
  "language_info": {
   "codemirror_mode": {
    "name": "ipython",
    "version": 3
   },
   "file_extension": ".py",
   "mimetype": "text/x-python",
   "name": "python",
   "nbconvert_exporter": "python",
   "pygments_lexer": "ipython3",
   "version": "3.12.3"
  }
 },
 "nbformat": 4,
 "nbformat_minor": 5
}
